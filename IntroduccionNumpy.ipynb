{
  "nbformat": 4,
  "nbformat_minor": 0,
  "metadata": {
    "kernelspec": {
      "display_name": "Python 3",
      "language": "python",
      "name": "python3"
    },
    "language_info": {
      "codemirror_mode": {
        "name": "ipython",
        "version": 3
      },
      "file_extension": ".py",
      "mimetype": "text/x-python",
      "name": "python",
      "nbconvert_exporter": "python",
      "pygments_lexer": "ipython3",
      "version": "3.8.3"
    },
    "colab": {
      "name": "IntroduccionNumpy.ipynb",
      "provenance": [],
      "collapsed_sections": []
    }
  },
  "cells": [
    {
      "cell_type": "markdown",
      "metadata": {
        "id": "EUZg6VI6Mh6o"
      },
      "source": [
        "# NUMPY"
      ]
    },
    {
      "cell_type": "markdown",
      "metadata": {
        "id": "iNp4VkhCMh6u"
      },
      "source": [
        "### Importamos la librería"
      ]
    },
    {
      "cell_type": "code",
      "metadata": {
        "id": "bbZjDDAaMh6z"
      },
      "source": [
        "import numpy as np # Importamos la librería que utilizaremos\n",
        "# En caso de lanzar un error, puede que no la tengas instalada, para ello deberás utilizar pip\n",
        "# Ejecuta en la consola: pip install numpy (si no funciona utiliza pip3 en vez de pip, sino deberás instalar pip)"
      ],
      "execution_count": null,
      "outputs": []
    },
    {
      "cell_type": "markdown",
      "metadata": {
        "id": "w0hkWpAQMh7N"
      },
      "source": [
        "### Básico"
      ]
    },
    {
      "cell_type": "code",
      "metadata": {
        "id": "qNgUcFAZMh7Q",
        "outputId": "2dcca5e6-a5e5-4a62-946b-689ea09ebaa6"
      },
      "source": [
        "a = np.array([1,2,3]) # Generamos un vector simple\n",
        "print(a)"
      ],
      "execution_count": null,
      "outputs": [
        {
          "output_type": "stream",
          "text": [
            "[1 2 3]\n"
          ],
          "name": "stdout"
        }
      ]
    },
    {
      "cell_type": "code",
      "metadata": {
        "id": "ym-1bBJwMh7g",
        "outputId": "1cf29d17-4927-407c-f52b-a77427507da6"
      },
      "source": [
        "b = np.array([[6.0,7.0,8.0],[3.0,4.0,5.0]]) # Generamos una matriz 2x3\n",
        "print(b)"
      ],
      "execution_count": null,
      "outputs": [
        {
          "output_type": "stream",
          "text": [
            "[[6. 7. 8.]\n",
            " [3. 4. 5.]]\n"
          ],
          "name": "stdout"
        }
      ]
    },
    {
      "cell_type": "code",
      "metadata": {
        "id": "bcFhJs-wMh7s",
        "outputId": "039fca03-a2fc-4042-a08c-a49cef97cb1b"
      },
      "source": [
        "c = np.array([[[1,2,3],[4,5,6],[7,8,9]],[[10,20,30],[40,50,60],[70,80,90]],[[100,200,300],[400,500,600],[700,800,900]]])\n",
        "# Generamos un tensor 3x3x3\n",
        "print(c)"
      ],
      "execution_count": null,
      "outputs": [
        {
          "output_type": "stream",
          "text": [
            "[[[  1   2   3]\n",
            "  [  4   5   6]\n",
            "  [  7   8   9]]\n",
            "\n",
            " [[ 10  20  30]\n",
            "  [ 40  50  60]\n",
            "  [ 70  80  90]]\n",
            "\n",
            " [[100 200 300]\n",
            "  [400 500 600]\n",
            "  [700 800 900]]]\n"
          ],
          "name": "stdout"
        }
      ]
    },
    {
      "cell_type": "markdown",
      "metadata": {
        "id": "h5VcHQkdMh74"
      },
      "source": [
        "### Dimensión de la matriz"
      ]
    },
    {
      "cell_type": "code",
      "metadata": {
        "id": "uj7A60LCMh77",
        "outputId": "7ab99e95-f4c3-49c3-f4e5-37427c4f7fee"
      },
      "source": [
        "print(a.ndim) # Obtenemos la cantidad de filas\n",
        "print(a.shape) # Obtenemos la forma del vector/matriz"
      ],
      "execution_count": null,
      "outputs": [
        {
          "output_type": "stream",
          "text": [
            "1\n",
            "(3,)\n"
          ],
          "name": "stdout"
        }
      ]
    },
    {
      "cell_type": "code",
      "metadata": {
        "id": "QUiY2P2BMh8H",
        "outputId": "c287821f-d417-47e4-b36c-89887e15f83a"
      },
      "source": [
        "print(b.ndim) # Obtenemos la cantidad de filas de b\n",
        "print(b.shape) # Obtenemos la forma de la matriz (filas, columnas)"
      ],
      "execution_count": null,
      "outputs": [
        {
          "output_type": "stream",
          "text": [
            "2\n",
            "(2, 3)\n"
          ],
          "name": "stdout"
        }
      ]
    },
    {
      "cell_type": "code",
      "metadata": {
        "id": "WhLVXXgfMh8U",
        "outputId": "d3856794-5045-4b58-f501-65b20417fbce"
      },
      "source": [
        "print (c.ndim) # Obtenemos la cantidad de filas de c\n",
        "print(c.shape) # Obtenemos la forma del tensor (filas, columnas, profundidad)"
      ],
      "execution_count": null,
      "outputs": [
        {
          "output_type": "stream",
          "text": [
            "3\n",
            "(3, 3, 3)\n"
          ],
          "name": "stdout"
        }
      ]
    },
    {
      "cell_type": "markdown",
      "metadata": {
        "id": "dZ0u0z1ZMh8e"
      },
      "source": [
        "### Tipo de la matriz"
      ]
    },
    {
      "cell_type": "code",
      "metadata": {
        "id": "ySgWca46Mh8g",
        "outputId": "5c14dec5-829e-4d32-cee5-4bc2f18e5aeb"
      },
      "source": [
        "a.dtype # Nos muestra el tipo de matriz de a"
      ],
      "execution_count": null,
      "outputs": [
        {
          "output_type": "execute_result",
          "data": {
            "text/plain": [
              "dtype('int64')"
            ]
          },
          "metadata": {
            "tags": []
          },
          "execution_count": 17
        }
      ]
    },
    {
      "cell_type": "code",
      "metadata": {
        "id": "ZftW1_B7Mh8v",
        "outputId": "1af9a6ee-e2ca-4358-942c-c6c35e73ff3b"
      },
      "source": [
        "b.dtype # Nos muestra el tipo de matriz de b"
      ],
      "execution_count": null,
      "outputs": [
        {
          "output_type": "execute_result",
          "data": {
            "text/plain": [
              "dtype('float64')"
            ]
          },
          "metadata": {
            "tags": []
          },
          "execution_count": 18
        }
      ]
    },
    {
      "cell_type": "code",
      "metadata": {
        "id": "1EsbgZ_AMh86",
        "outputId": "a204e572-8288-4eaa-ba6f-1b7c0a7743ef"
      },
      "source": [
        "# Podemos agregar un argumento al declarar una matriz que indica el tipo de matriz a generar\n",
        "# En este caso haremos que sean enteros de 16bits\n",
        "a = np.array([1,2,3],dtype = 'int16')\n",
        "a.dtype"
      ],
      "execution_count": null,
      "outputs": [
        {
          "output_type": "execute_result",
          "data": {
            "text/plain": [
              "dtype('int16')"
            ]
          },
          "metadata": {
            "tags": []
          },
          "execution_count": 8
        }
      ]
    },
    {
      "cell_type": "markdown",
      "metadata": {
        "id": "bmYe9lNtMh9H"
      },
      "source": [
        "### Tamaño de la matriz"
      ]
    },
    {
      "cell_type": "code",
      "metadata": {
        "id": "26E50kkaMh9J",
        "outputId": "858f1114-b092-4dd0-a2e9-4828d2d8cbc5"
      },
      "source": [
        "print(a) # Mostramos la matriz a para tomar de referencia"
      ],
      "execution_count": null,
      "outputs": [
        {
          "output_type": "stream",
          "text": [
            "[1 2 3]\n"
          ],
          "name": "stdout"
        }
      ]
    },
    {
      "cell_type": "code",
      "metadata": {
        "id": "RptUiPMtMh9V",
        "outputId": "26e39473-a2de-4165-fe17-5dfbcf26cca1"
      },
      "source": [
        "a.itemsize # Cantidad de bytes que ocupa cada item para int16 = 2 para int 32 = 4 ... etc"
      ],
      "execution_count": null,
      "outputs": [
        {
          "output_type": "execute_result",
          "data": {
            "text/plain": [
              "2"
            ]
          },
          "metadata": {
            "tags": []
          },
          "execution_count": 23
        }
      ]
    },
    {
      "cell_type": "code",
      "metadata": {
        "id": "9o87Y-wjMh9h",
        "outputId": "19083cd2-f36b-4bf9-ac61-b4410e9c8977"
      },
      "source": [
        "a.size # Podemos conocer la cantidad total de elementos de la matriz/vector"
      ],
      "execution_count": null,
      "outputs": [
        {
          "output_type": "execute_result",
          "data": {
            "text/plain": [
              "3"
            ]
          },
          "metadata": {
            "tags": []
          },
          "execution_count": 24
        }
      ]
    },
    {
      "cell_type": "code",
      "metadata": {
        "id": "KSbsbki0Mh9q",
        "outputId": "8d01e9d8-21b0-4655-9d0e-3d6728c5a45e"
      },
      "source": [
        "b.size # Lo mismo ocurre para esta matriz donde la cantidad de elementos son 6, tenemos 3 columas, 2 filas"
      ],
      "execution_count": null,
      "outputs": [
        {
          "output_type": "execute_result",
          "data": {
            "text/plain": [
              "6"
            ]
          },
          "metadata": {
            "tags": []
          },
          "execution_count": 25
        }
      ]
    },
    {
      "cell_type": "code",
      "metadata": {
        "id": "snkfCCr_Mh9z",
        "outputId": "2c1c1269-0655-49ff-8d10-23011ce5328c"
      },
      "source": [
        "c.size # Igual para el tensor 3d 3 col, 3 filas y 3 profundidad"
      ],
      "execution_count": null,
      "outputs": [
        {
          "output_type": "execute_result",
          "data": {
            "text/plain": [
              "27"
            ]
          },
          "metadata": {
            "tags": []
          },
          "execution_count": 26
        }
      ]
    },
    {
      "cell_type": "code",
      "metadata": {
        "id": "DvtjF2NmMh98",
        "outputId": "ff9540a0-7343-4332-bf2e-9dade80b6f3a"
      },
      "source": [
        "a.nbytes # Cantidad de bytes totales que ocupa la matriz en memoria = a.size * a.itemsize"
      ],
      "execution_count": null,
      "outputs": [
        {
          "output_type": "execute_result",
          "data": {
            "text/plain": [
              "6"
            ]
          },
          "metadata": {
            "tags": []
          },
          "execution_count": 27
        }
      ]
    },
    {
      "cell_type": "code",
      "metadata": {
        "id": "QidWjEOoMh-F",
        "outputId": "10a121a5-5c68-4473-f7f0-1a1cd6fe752d"
      },
      "source": [
        "print(b.dtype)  # Para 64 bits por elemento\n",
        "print(b.size)   # y tamaño 2x3\n",
        "print(b.nbytes) # Ocupará 48 bytes en memoria"
      ],
      "execution_count": null,
      "outputs": [
        {
          "output_type": "stream",
          "text": [
            "48\n",
            "float64\n"
          ],
          "name": "stdout"
        }
      ]
    },
    {
      "cell_type": "code",
      "metadata": {
        "id": "sSrN7sf5Mh-O",
        "outputId": "87eddb99-6a0c-4dc2-df56-c54edf6f7a0e"
      },
      "source": [
        "b = np.array([[6.0,7.0,8.0],[3.0,4.0,5.0]],dtype = 'float16')\n",
        "b.nbytes \n",
        "# Al cambiar el tipo de matriz a float16 ahorramos espacio en memoria innecesario\n",
        "# Esto hace el proceso y la operación con matrices mucho más rápida\n",
        "# Con el mismo tamaño, pero 16bits por elemento, ocupará 12 bytes en total la matriz"
      ],
      "execution_count": null,
      "outputs": [
        {
          "output_type": "execute_result",
          "data": {
            "text/plain": [
              "12"
            ]
          },
          "metadata": {
            "tags": []
          },
          "execution_count": 38
        }
      ]
    },
    {
      "cell_type": "markdown",
      "metadata": {
        "id": "QTtuZDxUMh-Y"
      },
      "source": [
        "## Acceso, cambiar elementos, filas, columnas y más"
      ]
    },
    {
      "cell_type": "code",
      "metadata": {
        "id": "T8iGI2izMh-a",
        "outputId": "bbecee54-8eb1-4371-dd4e-dd042654766d"
      },
      "source": [
        "b = np.array([[1,2,3],[4,5,6],[7,8,9]])\n",
        "print(b)"
      ],
      "execution_count": null,
      "outputs": [
        {
          "output_type": "stream",
          "text": [
            "[[1 2 3]\n",
            " [4 5 6]\n",
            " [7 8 9]]\n"
          ],
          "name": "stdout"
        }
      ]
    },
    {
      "cell_type": "code",
      "metadata": {
        "id": "pSjp3IuRMh-h",
        "outputId": "db870c62-1e5c-4868-b2ff-49142db7ee88"
      },
      "source": [
        "b.shape"
      ],
      "execution_count": null,
      "outputs": [
        {
          "output_type": "execute_result",
          "data": {
            "text/plain": [
              "(3, 3)"
            ]
          },
          "metadata": {
            "tags": []
          },
          "execution_count": 42
        }
      ]
    },
    {
      "cell_type": "markdown",
      "metadata": {
        "id": "RLNGxCO5Mh-p"
      },
      "source": [
        "### Obtener un elemento de la matriz [fila,columna] o vector [posición]"
      ]
    },
    {
      "cell_type": "code",
      "metadata": {
        "id": "RYyunXDmMh-q",
        "outputId": "219e4ddf-1787-4c15-de3b-cbca6a90bc7e"
      },
      "source": [
        "# Debemos tener en cuenta que el índice comienza en 0\n",
        "# Tambien tener en cuenta que podemos usar indice negativo siendo el último -1, penúltimo -2, etc...\n",
        "# por lo tanto:\n",
        "# Para obtener 1 haremos:\n",
        "b[0,0]"
      ],
      "execution_count": null,
      "outputs": [
        {
          "output_type": "execute_result",
          "data": {
            "text/plain": [
              "1"
            ]
          },
          "metadata": {
            "tags": []
          },
          "execution_count": 43
        }
      ]
    },
    {
      "cell_type": "code",
      "metadata": {
        "id": "_p1Aimu6Mh-1",
        "outputId": "ccca1a39-3a4a-4b09-e66c-a9f4e885f5c6"
      },
      "source": [
        "# Entonces para obtener el 7 haremos:\n",
        "b[2,0]"
      ],
      "execution_count": null,
      "outputs": [
        {
          "output_type": "execute_result",
          "data": {
            "text/plain": [
              "7"
            ]
          },
          "metadata": {
            "tags": []
          },
          "execution_count": 45
        }
      ]
    },
    {
      "cell_type": "code",
      "metadata": {
        "id": "zYe6D2f5Mh--",
        "outputId": "63b77967-83c1-49d2-fccb-b3a01114d8bf"
      },
      "source": [
        "# Con índices negativos para obtener el 7 haremos\n",
        "print(b[-1,0])\n",
        "# o tambien podemos usar:\n",
        "print(b[-1,-3])\n",
        "# en ambos casos obtenemos el 7\n",
        "# aunque para mejor entendimiento no es tan recomendable esta practica"
      ],
      "execution_count": null,
      "outputs": [
        {
          "output_type": "stream",
          "text": [
            "7\n",
            "7\n"
          ],
          "name": "stdout"
        }
      ]
    },
    {
      "cell_type": "markdown",
      "metadata": {
        "id": "xxGgVfQKMh_G"
      },
      "source": [
        "### Obtener una determinada fila o columna de la matriz"
      ]
    },
    {
      "cell_type": "code",
      "metadata": {
        "id": "I27nKmcTMh_I",
        "outputId": "6e440ed0-a57a-46dc-8005-0a76e107a873"
      },
      "source": [
        "# Para obtener una fila determinada de la matriz\n",
        "# en este caso será la fila 2\n",
        "b[1,:]"
      ],
      "execution_count": null,
      "outputs": [
        {
          "output_type": "execute_result",
          "data": {
            "text/plain": [
              "array([4, 5, 6])"
            ]
          },
          "metadata": {
            "tags": []
          },
          "execution_count": 49
        }
      ]
    },
    {
      "cell_type": "code",
      "metadata": {
        "id": "ZXHqBG-FMh_T",
        "outputId": "2cf4ea79-e6f9-4ec9-9e98-49d6e9bbb4c8"
      },
      "source": [
        "# Para obtener una columna determinada de la matriz\n",
        "# en este caso será la columna 1\n",
        "b[:,0]"
      ],
      "execution_count": null,
      "outputs": [
        {
          "output_type": "execute_result",
          "data": {
            "text/plain": [
              "array([1, 4, 7])"
            ]
          },
          "metadata": {
            "tags": []
          },
          "execution_count": 50
        }
      ]
    },
    {
      "cell_type": "code",
      "metadata": {
        "id": "8J-dIRi2Mh_e",
        "outputId": "8b4d35a4-4257-469d-b23e-99f97db112d5"
      },
      "source": [
        "# Para recorrer cierta cantidad de elementos en una fila usaremos\n",
        "# indicecomienzo:indicefinal+1(Como es un rango siempre es 1 menos):paso(opcional)\n",
        "# Por ejemplo para tomar el 1 y el 3 de la fila 1 haremos\n",
        "b[0,0:3:2]"
      ],
      "execution_count": null,
      "outputs": [
        {
          "output_type": "execute_result",
          "data": {
            "text/plain": [
              "array([1, 3])"
            ]
          },
          "metadata": {
            "tags": []
          },
          "execution_count": 56
        }
      ]
    },
    {
      "cell_type": "code",
      "metadata": {
        "id": "a1cQTHAXMh_k",
        "outputId": "51736716-7c1b-4d56-bedd-2ad75ae02034"
      },
      "source": [
        "# Para obtener las esquinas (1.1,1.3,3.1 y 3.3) de una matriz 3x3 haremos\n",
        "b[0:3:2,0:3:2] # siendo n el numero de filas y m el numero de columnas\n",
        "# Esta fórmula para obtener las esquinas es [0:n:n-1,0:m:m-1]"
      ],
      "execution_count": null,
      "outputs": [
        {
          "output_type": "execute_result",
          "data": {
            "text/plain": [
              "array([[1, 3],\n",
              "       [7, 9]])"
            ]
          },
          "metadata": {
            "tags": []
          },
          "execution_count": 57
        }
      ]
    },
    {
      "cell_type": "markdown",
      "metadata": {
        "id": "70zGm6mjMh_s"
      },
      "source": [
        "### Cambiar un elemento específico en una matriz"
      ]
    },
    {
      "cell_type": "code",
      "metadata": {
        "id": "qxcGDpO4Mh_t",
        "outputId": "34ad7608-1652-4c7b-f62a-c1756147d5cb"
      },
      "source": [
        "# Para cambiar un elemento específico \n",
        "# primero lo \"llamamos\" como lo haríamos\n",
        "# luego le realizamos la nueva asignación (todo en la misma linea)\n",
        "# de esta forma:\n",
        "b[0,0] = 10 # recordemos que es 1, pero lo cambiamos a 10\n",
        "# Si mostramos b, veremos el cambio\n",
        "print(b)"
      ],
      "execution_count": null,
      "outputs": [
        {
          "output_type": "stream",
          "text": [
            "[[10  2  3]\n",
            " [ 4  5  6]\n",
            " [ 7  8  9]]\n"
          ],
          "name": "stdout"
        }
      ]
    },
    {
      "cell_type": "code",
      "metadata": {
        "id": "7Va8_XUAMh_z",
        "outputId": "3b46c37c-7c60-438a-ee5c-5bf7803b7db1"
      },
      "source": [
        "# Para cambiar una serie de números usamos la misma lógica\n",
        "# \"Llamamos\" y luego asignamos\n",
        "# Por ejemplo para cambiar la fila 1 podemos realizar\n",
        "b[0,:]=[10,20,30]\n",
        "print(b) # mostramos la matriz para ver el cambio"
      ],
      "execution_count": null,
      "outputs": [
        {
          "output_type": "stream",
          "text": [
            "[[10 20 30]\n",
            " [ 4  5  6]\n",
            " [ 7  8  9]]\n"
          ],
          "name": "stdout"
        }
      ]
    },
    {
      "cell_type": "code",
      "metadata": {
        "id": "tr1JNBycMh_5",
        "outputId": "e8f55c4e-f063-45b4-bd9e-2c5ed7be1187"
      },
      "source": [
        "# Podemos hacer lo mismo asignando a todos un mismo valor\n",
        "# en este caso pondremos todos 2 en la columna 2\n",
        "b[:,1] = 2\n",
        "print(b)"
      ],
      "execution_count": null,
      "outputs": [
        {
          "output_type": "stream",
          "text": [
            "[[10  2 30]\n",
            " [ 4  2  6]\n",
            " [ 7  2  9]]\n"
          ],
          "name": "stdout"
        }
      ]
    },
    {
      "cell_type": "code",
      "metadata": {
        "id": "lIll3ElpMiAB",
        "outputId": "af9a9d64-97e6-47f9-8f73-ebf531901d59"
      },
      "source": [
        "# Para los tensores de 3 dimensiones (incorporan profundidad o capas), ocurre igual\n",
        "# En caso de tener un tensor 3d, debemos agregar una coordenada más que indique la \"capa\"\n",
        "# Entonces primero declararemos un tensor 3d y luego ejecutaremos algunas operaciones\n",
        "a3d = np.array([[[1,2],[3,4]],[[5,6],[7,8]]])\n",
        "print(a3d)"
      ],
      "execution_count": null,
      "outputs": [
        {
          "output_type": "stream",
          "text": [
            "[[[1 2]\n",
            "  [3 4]]\n",
            "\n",
            " [[5 6]\n",
            "  [7 8]]]\n"
          ],
          "name": "stdout"
        }
      ]
    },
    {
      "cell_type": "code",
      "metadata": {
        "id": "zvGb9IXWMiAG",
        "outputId": "b5e4d6e5-db7c-4e5f-9c30-f4d0cd7be4ab"
      },
      "source": [
        "# Entonces para las operaciones de obtener o cambiar elementos específicos agregamos la coordenada de \"capa\"\n",
        "# Por ejemplo para obtener el número 6 haremos\n",
        "a3d[1,0,1] # Capa 2, fila 1, col 2"
      ],
      "execution_count": null,
      "outputs": [
        {
          "output_type": "execute_result",
          "data": {
            "text/plain": [
              "6"
            ]
          },
          "metadata": {
            "tags": []
          },
          "execution_count": 65
        }
      ]
    },
    {
      "cell_type": "code",
      "metadata": {
        "id": "8VaPFxgiMiAN",
        "outputId": "8f14ff84-00bc-4cac-f8d8-13790e8e61a3"
      },
      "source": [
        "# Para cambiar elementos realizamos lo mismo, también agregando la nueva coordenada\n",
        "# Por ejemplo a la \"capa\" 1 le cambiaremos los valores a 10,20,30 y 40 respectivamente\n",
        "a3d[0,:,:]=[[10,20],[30,40]] # Cambiamos la capa completa\n",
        "print(a3d) # Mostramos la matriz para ver los cambios"
      ],
      "execution_count": null,
      "outputs": [
        {
          "output_type": "stream",
          "text": [
            "[[[10 20]\n",
            "  [30 40]]\n",
            "\n",
            " [[10 14]\n",
            "  [ 7  8]]]\n"
          ],
          "name": "stdout"
        }
      ]
    },
    {
      "cell_type": "code",
      "metadata": {
        "id": "lukPl36sMiAZ",
        "outputId": "177cbcb6-0c19-4907-b947-d30a91563823"
      },
      "source": [
        "# Haremos un ejemplo cambiando la primera columna de la segunda capa\n",
        "# a [5,7] le asignaremos 10 y 14 respectivamente\n",
        "a3d[1,:,0] = [10,14]\n",
        "print(a3d)"
      ],
      "execution_count": null,
      "outputs": [
        {
          "output_type": "stream",
          "text": [
            "[[[10 20]\n",
            "  [30 40]]\n",
            "\n",
            " [[10  6]\n",
            "  [14  8]]]\n"
          ],
          "name": "stdout"
        }
      ]
    },
    {
      "cell_type": "markdown",
      "metadata": {
        "id": "jxvFG5LtMiAh"
      },
      "source": [
        "#### Entonces sabemos que para recorrer una matriz 3D el orden es [capa,fila,columna]"
      ]
    },
    {
      "cell_type": "markdown",
      "metadata": {
        "id": "3tkb__yhMiAi"
      },
      "source": [
        "## Iniciar Matrices Específicas"
      ]
    },
    {
      "cell_type": "code",
      "metadata": {
        "id": "JHOxi3xpMiAk",
        "outputId": "46fbbda1-aecd-416e-b927-0c602525d9f1"
      },
      "source": [
        "# matriz con todos 0s - funcion np.zeros(forma)\n",
        "print(np.zeros(3),\"vector \\n\") # vector longitud = 3\n",
        "print(np.zeros((3,3)),\"matriz \\n\") # matriz nm = 3x3\n",
        "print(np.zeros((3,3,3)),\"tensor 3d\") # Tensor 3d = 3x3x3"
      ],
      "execution_count": null,
      "outputs": [
        {
          "output_type": "stream",
          "text": [
            "[0. 0. 0.] vector \n",
            "\n",
            "[[0. 0. 0.]\n",
            " [0. 0. 0.]\n",
            " [0. 0. 0.]] matríz \n",
            "\n",
            "[[[0. 0. 0.]\n",
            "  [0. 0. 0.]\n",
            "  [0. 0. 0.]]\n",
            "\n",
            " [[0. 0. 0.]\n",
            "  [0. 0. 0.]\n",
            "  [0. 0. 0.]]\n",
            "\n",
            " [[0. 0. 0.]\n",
            "  [0. 0. 0.]\n",
            "  [0. 0. 0.]]] tensor 3d\n"
          ],
          "name": "stdout"
        }
      ]
    },
    {
      "cell_type": "code",
      "metadata": {
        "id": "-8G_7D46MiAs",
        "outputId": "7af1584c-e224-43cd-bf71-803ca1637337"
      },
      "source": [
        "# matriz con todos 1s - funcion np.ones(forma)\n",
        "print(np.ones(2),\"vector \\n\") # vector longitud = 2\n",
        "print(np.zeros((2,2)),\"matriz \\n\") # matriz nm = 2x2\n",
        "print(np.zeros((2,2,2)),\"tensor 3d\") # Tensor 3d = 2x2x2"
      ],
      "execution_count": null,
      "outputs": [
        {
          "output_type": "stream",
          "text": [
            "[1. 1.] vector \n",
            "\n",
            "[[0. 0.]\n",
            " [0. 0.]] matríz \n",
            "\n",
            "[[[0. 0.]\n",
            "  [0. 0.]]\n",
            "\n",
            " [[0. 0.]\n",
            "  [0. 0.]]] tensor 3d\n"
          ],
          "name": "stdout"
        }
      ]
    },
    {
      "cell_type": "code",
      "metadata": {
        "id": "p2k28WD3MiAz",
        "outputId": "691e2ba5-9235-4efa-8ebc-364dfd8a9509"
      },
      "source": [
        "# matriz con un número distinto de 0 y 1 - función np.full(forma,número)\n",
        "\n",
        "print(np.full(4,7),\"vector \\n\") # 4 columnas\n",
        "print(np.full((4,4),7),\"matriz \\n\") # 4 fil, 4 col\n",
        "print(np.full((3,2,4),7),\"tensor 3d\") # 3 capas, 2 filas, 4 col"
      ],
      "execution_count": null,
      "outputs": [
        {
          "output_type": "stream",
          "text": [
            "[7 7 7 7] vector \n",
            "\n",
            "[[7 7 7 7]\n",
            " [7 7 7 7]\n",
            " [7 7 7 7]\n",
            " [7 7 7 7]] matríz \n",
            "\n",
            "[[[7 7 7 7]\n",
            "  [7 7 7 7]]\n",
            "\n",
            " [[7 7 7 7]\n",
            "  [7 7 7 7]]\n",
            "\n",
            " [[7 7 7 7]\n",
            "  [7 7 7 7]]] tensor 3d\n"
          ],
          "name": "stdout"
        }
      ]
    },
    {
      "cell_type": "code",
      "metadata": {
        "id": "tu9e-wSYMiA6",
        "outputId": "917f386f-a8bf-4218-cd0c-224127126a35"
      },
      "source": [
        "# Podemos utilizar la forma de otra matriz en el argumento forma\n",
        "# Por ejemplo esta vez usaremos la forma de la matriz a3d anteriormente utilizada\n",
        "np.full(a3d.shape,12)"
      ],
      "execution_count": null,
      "outputs": [
        {
          "output_type": "execute_result",
          "data": {
            "text/plain": [
              "array([[[12, 12],\n",
              "        [12, 12]],\n",
              "\n",
              "       [[12, 12],\n",
              "        [12, 12]]])"
            ]
          },
          "metadata": {
            "tags": []
          },
          "execution_count": 91
        }
      ]
    },
    {
      "cell_type": "code",
      "metadata": {
        "id": "KkR3SwZ9MiA-",
        "outputId": "8a8b2920-4127-41e4-cc79-e37bb9d15823"
      },
      "source": [
        "# Lo mismo podemos hacer utilizando otra función la cual es np.full_like(matriz_a_copiar,número)\n",
        "# Realizaremos el mismo ejemplo pero con esta función\n",
        "np.full_like(a3d,12)"
      ],
      "execution_count": null,
      "outputs": [
        {
          "output_type": "execute_result",
          "data": {
            "text/plain": [
              "array([[[12, 12],\n",
              "        [12, 12]],\n",
              "\n",
              "       [[12, 12],\n",
              "        [12, 12]]])"
            ]
          },
          "metadata": {
            "tags": []
          },
          "execution_count": 92
        }
      ]
    },
    {
      "cell_type": "code",
      "metadata": {
        "id": "FNwiLudwMiBE",
        "outputId": "849bc58b-8e77-48e7-9743-7d0e721f382b"
      },
      "source": [
        "# matriz de números decimales aleatorios entre 0 y 1 - función np.random.rand(forma)\n",
        "np.random.rand(4,2)"
      ],
      "execution_count": null,
      "outputs": [
        {
          "output_type": "execute_result",
          "data": {
            "text/plain": [
              "array([[0.37989992, 0.65348895],\n",
              "       [0.17026242, 0.98247786],\n",
              "       [0.1757197 , 0.27257117],\n",
              "       [0.61629988, 0.07327805]])"
            ]
          },
          "metadata": {
            "tags": []
          },
          "execution_count": 93
        }
      ]
    },
    {
      "cell_type": "code",
      "metadata": {
        "id": "73jHeGhEMiBM",
        "outputId": "13c4f667-f739-4cda-830a-ba41604d4d0c"
      },
      "source": [
        "# Para realizar la misma matriz aleatoria pero pasarle la forma de otra usamos la función\n",
        "# np.random.random_sample(forma) , usaremos la forma de a3d para el ejemplo\n",
        "np.random.random_sample(a3d.shape)"
      ],
      "execution_count": null,
      "outputs": [
        {
          "output_type": "execute_result",
          "data": {
            "text/plain": [
              "array([[[0.35433151, 0.23892235],\n",
              "        [0.35979473, 0.18303805]],\n",
              "\n",
              "       [[0.22801053, 0.38085872],\n",
              "        [0.37303217, 0.04735189]]])"
            ]
          },
          "metadata": {
            "tags": []
          },
          "execution_count": 95
        }
      ]
    },
    {
      "cell_type": "code",
      "metadata": {
        "id": "SgGBGPNyMiBT",
        "outputId": "8d407826-0f11-4bd5-ae94-b637eeaaf10b"
      },
      "source": [
        "# matriz aleatoria de enteros - función np.random.randint(inicio[default = 0],final+1,size[default = 1])\n",
        "np.random.randint(4) # Escalar aleatorio entre 0 y 4"
      ],
      "execution_count": null,
      "outputs": [
        {
          "output_type": "execute_result",
          "data": {
            "text/plain": [
              "1"
            ]
          },
          "metadata": {
            "tags": []
          },
          "execution_count": 96
        }
      ]
    },
    {
      "cell_type": "code",
      "metadata": {
        "id": "hmDdCUsGMiBY",
        "outputId": "e04efb5f-f473-4f21-994f-e555ea738cff"
      },
      "source": [
        "np.random.randint(5,13) # Escalar aleatorio entre 5 y 13"
      ],
      "execution_count": null,
      "outputs": [
        {
          "output_type": "execute_result",
          "data": {
            "text/plain": [
              "11"
            ]
          },
          "metadata": {
            "tags": []
          },
          "execution_count": 97
        }
      ]
    },
    {
      "cell_type": "code",
      "metadata": {
        "id": "--NqzbDxMiBh",
        "outputId": "8b827d8c-4e18-402c-b360-d264cbf643db"
      },
      "source": [
        "np.random.randint(0,10,size = (3,3)) # matriz 3x3 de aleatorios entre 0 y 10"
      ],
      "execution_count": null,
      "outputs": [
        {
          "output_type": "execute_result",
          "data": {
            "text/plain": [
              "array([[0, 5, 4],\n",
              "       [6, 6, 5],\n",
              "       [6, 2, 3]])"
            ]
          },
          "metadata": {
            "tags": []
          },
          "execution_count": 98
        }
      ]
    },
    {
      "cell_type": "code",
      "metadata": {
        "id": "PCNippYiMiBm",
        "outputId": "27e27b3a-37b3-4812-9421-3ec192754d17"
      },
      "source": [
        "np.random.randint(2,size = (3,3)) # matriz 3x3 booleana aleatoria"
      ],
      "execution_count": null,
      "outputs": [
        {
          "output_type": "execute_result",
          "data": {
            "text/plain": [
              "array([[1, 0, 0],\n",
              "       [1, 0, 1],\n",
              "       [0, 1, 0]])"
            ]
          },
          "metadata": {
            "tags": []
          },
          "execution_count": 102
        }
      ]
    },
    {
      "cell_type": "code",
      "metadata": {
        "id": "4szU0fSeMiBq",
        "outputId": "5037b055-1a0b-4676-99dd-4e0c2dd1ad7d"
      },
      "source": [
        "# Estas pueden tomar como parametro números negativos, por ejemplo\n",
        "np.random.randint(-3,4,size = (3,3,3)) # matriz 3x3x3 de num aleatorios entre -3 y 3"
      ],
      "execution_count": null,
      "outputs": [
        {
          "output_type": "execute_result",
          "data": {
            "text/plain": [
              "array([[[-1,  2,  1],\n",
              "        [-2,  1,  0],\n",
              "        [ 3, -2,  0]],\n",
              "\n",
              "       [[ 1, -2,  0],\n",
              "        [-2, -3,  1],\n",
              "        [ 2, -1,  0]],\n",
              "\n",
              "       [[ 0,  1, -1],\n",
              "        [ 2, -3,  2],\n",
              "        [-3, -2, -2]]])"
            ]
          },
          "metadata": {
            "tags": []
          },
          "execution_count": 108
        }
      ]
    },
    {
      "cell_type": "code",
      "metadata": {
        "id": "zfyrGZ7OMiCC",
        "outputId": "8265f05a-8a9f-47a9-f222-a056d2074dc7"
      },
      "source": [
        "# matriz identidad - función np.identity(tamaño)\n",
        "# Por defecto las matrices identidad son cuadradas por lo que el tamaño ingresado = t\n",
        "# Dará como resultado una matriz donde filas = t y columnas = t y tiene 1s en la diagonal principal, por ejemplo\n",
        "np.identity(3)"
      ],
      "execution_count": null,
      "outputs": [
        {
          "output_type": "execute_result",
          "data": {
            "text/plain": [
              "array([[1., 0., 0.],\n",
              "       [0., 1., 0.],\n",
              "       [0., 0., 1.]])"
            ]
          },
          "metadata": {
            "tags": []
          },
          "execution_count": 110
        }
      ]
    },
    {
      "cell_type": "code",
      "metadata": {
        "id": "Qsmb7keRMiCL",
        "outputId": "4a3ea554-954d-413a-aac2-e527eadffd64"
      },
      "source": [
        "# Para repetir matrices n veces - función np.repeat(matriz,repeticiones,eje de repeticiones[default = 1 = x;0 = y])\n",
        "# Se le pasa como argumento una matriz y la cantidad de repeticiones requeridas\n",
        "arr = np.array([1,2,3])\n",
        "rep = np.repeat(arr,5) # Generamos 5 1s, 5 2s, ...\n",
        "# Si queremos que se repitan en el eje \"y\" debemos crear una matriz, no un vector, y aclarar en el repeat el eje y\n",
        "arr2 = np.array([[4,5,6]])\n",
        "rep2 = np.repeat(arr2,3,axis = 0)\n",
        "print(arr)\n",
        "print(arr2)\n",
        "print(rep)\n",
        "print(rep2)"
      ],
      "execution_count": null,
      "outputs": [
        {
          "output_type": "stream",
          "text": [
            "[1 2 3]\n",
            "[[4 5 6]]\n",
            "[1 1 1 1 1 2 2 2 2 2 3 3 3 3 3]\n",
            "[[4 5 6]\n",
            " [4 5 6]\n",
            " [4 5 6]]\n"
          ],
          "name": "stdout"
        }
      ]
    },
    {
      "cell_type": "code",
      "metadata": {
        "id": "14iOdIGiMiCS",
        "outputId": "dd30aa03-5390-47ce-a7fc-b1c49efd8663"
      },
      "source": [
        "# Para generar una matriz diagonal - función np.diag(tamaño)\n",
        "# daremos un ejemplo\n",
        "diag = np.diag((1,1,1)) # Construimos la matriz poniendo los elementos que van en la diagonal\n",
        "print(diag)\n",
        "\n",
        "# Para generar una matriz de elementos en el triangulo superior de la matriz\n",
        "print(np.triu((1,3,1))) # Indicamos los números que queremos en las columnas que formen el triang superior\n",
        "\n",
        "print(np.tril((2,1,2))) # Nuevamente indicamos los números que queremos en las col que forman el triang inferior"
      ],
      "execution_count": null,
      "outputs": [
        {
          "output_type": "stream",
          "text": [
            "[[1 0 0]\n",
            " [0 1 0]\n",
            " [0 0 1]]\n",
            "[[1 3 1]\n",
            " [0 3 1]\n",
            " [0 0 1]]\n",
            "[[2 0 0]\n",
            " [2 1 0]\n",
            " [2 1 2]]\n"
          ],
          "name": "stdout"
        }
      ]
    },
    {
      "cell_type": "code",
      "metadata": {
        "id": "oz_peFcdMiCY",
        "outputId": "541d9510-f536-4625-e86a-2a227a9270e6"
      },
      "source": [
        "# Para generar una matriz o vector con un rango entre números - np.arange(desde,hasta,paso)\n",
        "pares = np.arange(2,51,2) # Generamos a partir del 2 hasta el 50 con paso 2 (pares hasta el 50)\n",
        "print(pares,\"\\n\")\n",
        "\n",
        "# También podemos generar una matriz o vector con un rango entre números y elegir una cantidad de elementos a selec\n",
        "# Utilizaremos la función - np.linspace(desde,hasta,cantidaddenúmeros)\n",
        "a = np.linspace(0,2*np.pi,100) # Creamos una matriz de rango 0 hasta 2pi tomando 100 valores equidistantes\n",
        "b = np.cos(a) # Calculamos el coseno de cada elemento de a\n",
        "c = np.sin(a) # Calculamos el seno de cada elemento de a\n",
        "\n",
        "# Mostraremos por pantalla la selección de los 100 números equidistantes y sus valore de seno y coseno para c/u\n",
        "print(a)\n",
        "print(b)\n",
        "print(c)"
      ],
      "execution_count": null,
      "outputs": [
        {
          "output_type": "stream",
          "text": [
            "[ 2  4  6  8 10 12 14 16 18 20 22 24 26 28 30 32 34 36 38 40 42 44 46 48\n",
            " 50] \n",
            "\n",
            "[0.         0.06346652 0.12693304 0.19039955 0.25386607 0.31733259\n",
            " 0.38079911 0.44426563 0.50773215 0.57119866 0.63466518 0.6981317\n",
            " 0.76159822 0.82506474 0.88853126 0.95199777 1.01546429 1.07893081\n",
            " 1.14239733 1.20586385 1.26933037 1.33279688 1.3962634  1.45972992\n",
            " 1.52319644 1.58666296 1.65012947 1.71359599 1.77706251 1.84052903\n",
            " 1.90399555 1.96746207 2.03092858 2.0943951  2.15786162 2.22132814\n",
            " 2.28479466 2.34826118 2.41172769 2.47519421 2.53866073 2.60212725\n",
            " 2.66559377 2.72906028 2.7925268  2.85599332 2.91945984 2.98292636\n",
            " 3.04639288 3.10985939 3.17332591 3.23679243 3.30025895 3.36372547\n",
            " 3.42719199 3.4906585  3.55412502 3.61759154 3.68105806 3.74452458\n",
            " 3.8079911  3.87145761 3.93492413 3.99839065 4.06185717 4.12532369\n",
            " 4.1887902  4.25225672 4.31572324 4.37918976 4.44265628 4.5061228\n",
            " 4.56958931 4.63305583 4.69652235 4.75998887 4.82345539 4.88692191\n",
            " 4.95038842 5.01385494 5.07732146 5.14078798 5.2042545  5.26772102\n",
            " 5.33118753 5.39465405 5.45812057 5.52158709 5.58505361 5.64852012\n",
            " 5.71198664 5.77545316 5.83891968 5.9023862  5.96585272 6.02931923\n",
            " 6.09278575 6.15625227 6.21971879 6.28318531]\n",
            "[ 1.          0.99798668  0.99195481  0.9819287   0.9679487   0.95007112\n",
            "  0.92836793  0.90292654  0.87384938  0.84125353  0.80527026  0.76604444\n",
            "  0.72373404  0.67850941  0.63055267  0.58005691  0.52722547  0.47227107\n",
            "  0.41541501  0.35688622  0.29692038  0.23575894  0.17364818  0.1108382\n",
            "  0.04758192 -0.01586596 -0.07924996 -0.14231484 -0.20480667 -0.26647381\n",
            " -0.32706796 -0.38634513 -0.44406661 -0.5        -0.55392006 -0.60560969\n",
            " -0.65486073 -0.70147489 -0.74526445 -0.78605309 -0.82367658 -0.85798341\n",
            " -0.88883545 -0.91610846 -0.93969262 -0.95949297 -0.97542979 -0.98743889\n",
            " -0.99547192 -0.99949654 -0.99949654 -0.99547192 -0.98743889 -0.97542979\n",
            " -0.95949297 -0.93969262 -0.91610846 -0.88883545 -0.85798341 -0.82367658\n",
            " -0.78605309 -0.74526445 -0.70147489 -0.65486073 -0.60560969 -0.55392006\n",
            " -0.5        -0.44406661 -0.38634513 -0.32706796 -0.26647381 -0.20480667\n",
            " -0.14231484 -0.07924996 -0.01586596  0.04758192  0.1108382   0.17364818\n",
            "  0.23575894  0.29692038  0.35688622  0.41541501  0.47227107  0.52722547\n",
            "  0.58005691  0.63055267  0.67850941  0.72373404  0.76604444  0.80527026\n",
            "  0.84125353  0.87384938  0.90292654  0.92836793  0.95007112  0.9679487\n",
            "  0.9819287   0.99195481  0.99798668  1.        ]\n",
            "[ 0.00000000e+00  6.34239197e-02  1.26592454e-01  1.89251244e-01\n",
            "  2.51147987e-01  3.12033446e-01  3.71662456e-01  4.29794912e-01\n",
            "  4.86196736e-01  5.40640817e-01  5.92907929e-01  6.42787610e-01\n",
            "  6.90079011e-01  7.34591709e-01  7.76146464e-01  8.14575952e-01\n",
            "  8.49725430e-01  8.81453363e-01  9.09631995e-01  9.34147860e-01\n",
            "  9.54902241e-01  9.71811568e-01  9.84807753e-01  9.93838464e-01\n",
            "  9.98867339e-01  9.99874128e-01  9.96854776e-01  9.89821442e-01\n",
            "  9.78802446e-01  9.63842159e-01  9.45000819e-01  9.22354294e-01\n",
            "  8.95993774e-01  8.66025404e-01  8.32569855e-01  7.95761841e-01\n",
            "  7.55749574e-01  7.12694171e-01  6.66769001e-01  6.18158986e-01\n",
            "  5.67059864e-01  5.13677392e-01  4.58226522e-01  4.00930535e-01\n",
            "  3.42020143e-01  2.81732557e-01  2.20310533e-01  1.58001396e-01\n",
            "  9.50560433e-02  3.17279335e-02 -3.17279335e-02 -9.50560433e-02\n",
            " -1.58001396e-01 -2.20310533e-01 -2.81732557e-01 -3.42020143e-01\n",
            " -4.00930535e-01 -4.58226522e-01 -5.13677392e-01 -5.67059864e-01\n",
            " -6.18158986e-01 -6.66769001e-01 -7.12694171e-01 -7.55749574e-01\n",
            " -7.95761841e-01 -8.32569855e-01 -8.66025404e-01 -8.95993774e-01\n",
            " -9.22354294e-01 -9.45000819e-01 -9.63842159e-01 -9.78802446e-01\n",
            " -9.89821442e-01 -9.96854776e-01 -9.99874128e-01 -9.98867339e-01\n",
            " -9.93838464e-01 -9.84807753e-01 -9.71811568e-01 -9.54902241e-01\n",
            " -9.34147860e-01 -9.09631995e-01 -8.81453363e-01 -8.49725430e-01\n",
            " -8.14575952e-01 -7.76146464e-01 -7.34591709e-01 -6.90079011e-01\n",
            " -6.42787610e-01 -5.92907929e-01 -5.40640817e-01 -4.86196736e-01\n",
            " -4.29794912e-01 -3.71662456e-01 -3.12033446e-01 -2.51147987e-01\n",
            " -1.89251244e-01 -1.26592454e-01 -6.34239197e-02 -2.44929360e-16]\n"
          ],
          "name": "stdout"
        }
      ]
    },
    {
      "cell_type": "code",
      "metadata": {
        "id": "QtMFebMHMiCf",
        "outputId": "5a24692c-caed-4867-8fcb-1e069f1b9730"
      },
      "source": [
        "# Para generar una matriz a partir de una cadena de caracteres - np.char.array(cadena)\n",
        "saludo = np.char.array(['hola,','como','estás?'])\n",
        "print(saludo)"
      ],
      "execution_count": null,
      "outputs": [
        {
          "output_type": "stream",
          "text": [
            "['hola,' 'como' 'estás?']\n"
          ],
          "name": "stdout"
        }
      ]
    },
    {
      "cell_type": "code",
      "metadata": {
        "id": "VyjwgLpPMiCj"
      },
      "source": [
        "# Existen más iniciaciones de matrices más específicas\n",
        "# En caso de interesarte, dejaré un link en la página principal del repo"
      ],
      "execution_count": null,
      "outputs": []
    },
    {
      "cell_type": "markdown",
      "metadata": {
        "id": "QeLtUFqmMiCo"
      },
      "source": [
        "### Problema 1 : Generar la matriz [[1,1,1,1,1],[1,0,0,0,1],[1,0,9,0,1],[1,0,0,0,1],[1,1,1,1,1]]"
      ]
    },
    {
      "cell_type": "code",
      "metadata": {
        "id": "0FsslW9iMiCr",
        "outputId": "32844a92-50fc-4991-f986-f7e29d5266ac"
      },
      "source": [
        "# Imprimimos la matriz a generar\n",
        "problema = np.array([[1,1,1,1,1],[1,0,0,0,1],[1,0,9,0,1],[1,0,0,0,1],[1,1,1,1,1]])\n",
        "print(problema)"
      ],
      "execution_count": null,
      "outputs": [
        {
          "output_type": "stream",
          "text": [
            "[[1 1 1 1 1]\n",
            " [1 0 0 0 1]\n",
            " [1 0 9 0 1]\n",
            " [1 0 0 0 1]\n",
            " [1 1 1 1 1]]\n"
          ],
          "name": "stdout"
        }
      ]
    },
    {
      "cell_type": "code",
      "metadata": {
        "id": "O5ttEt3AMiCz",
        "outputId": "32a968fe-bb7d-429e-8fac-90f16f259cee"
      },
      "source": [
        "# Como vemos esta matriz es de tamaño 5 y es cuadrada ya que cant filas = cant columnas\n",
        "# Para comenzar crearemos una matriz de 0s de tamaño (5,5)\n",
        "rta = np.zeros((5,5),dtype = 'int16')\n",
        "print(rta) # Empezamos de esta forma"
      ],
      "execution_count": null,
      "outputs": [
        {
          "output_type": "stream",
          "text": [
            "[[0 0 0 0 0]\n",
            " [0 0 0 0 0]\n",
            " [0 0 0 0 0]\n",
            " [0 0 0 0 0]\n",
            " [0 0 0 0 0]]\n"
          ],
          "name": "stdout"
        }
      ]
    },
    {
      "cell_type": "code",
      "metadata": {
        "id": "zruqru8lMiC2",
        "outputId": "bdbe673c-31ac-472b-8f90-688b0c3e5d52"
      },
      "source": [
        "# Luego haremos la primer y última fila de 1s\n",
        "rta[0:5:4,:] = 1\n",
        "print(rta) # Nos quedaría de esta forma"
      ],
      "execution_count": null,
      "outputs": [
        {
          "output_type": "stream",
          "text": [
            "[[1 1 1 1 1]\n",
            " [0 0 0 0 0]\n",
            " [0 0 0 0 0]\n",
            " [0 0 0 0 0]\n",
            " [1 1 1 1 1]]\n"
          ],
          "name": "stdout"
        }
      ]
    },
    {
      "cell_type": "code",
      "metadata": {
        "id": "q01FMIEUMiC8",
        "outputId": "3d23488f-7799-4df6-e0b2-4eb6608b033b"
      },
      "source": [
        "# Ahora convertiremos en 1s la primer y ultima columna con el proceso \"inverso\"\n",
        "rta[:,0:5:4] = 1\n",
        "print(rta) # Ya nos acercamos al final"
      ],
      "execution_count": null,
      "outputs": [
        {
          "output_type": "stream",
          "text": [
            "[[1 1 1 1 1]\n",
            " [1 0 0 0 1]\n",
            " [1 0 0 0 1]\n",
            " [1 0 0 0 1]\n",
            " [1 1 1 1 1]]\n"
          ],
          "name": "stdout"
        }
      ]
    },
    {
      "cell_type": "code",
      "metadata": {
        "id": "0V_tI9-OMiDA",
        "outputId": "af773de9-9ba7-462d-c36a-daa9dabbc10d"
      },
      "source": [
        "# Por último debemos cambiar el centro por 9, lo haremos de esta forma\n",
        "rta[2,2] = 9\n",
        "print(rta) # Esta es nuestra respuesta final"
      ],
      "execution_count": null,
      "outputs": [
        {
          "output_type": "stream",
          "text": [
            "[[1 1 1 1 1]\n",
            " [1 0 0 0 1]\n",
            " [1 0 9 0 1]\n",
            " [1 0 0 0 1]\n",
            " [1 1 1 1 1]]\n"
          ],
          "name": "stdout"
        }
      ]
    },
    {
      "cell_type": "markdown",
      "metadata": {
        "id": "hjeSDPrtMiDE"
      },
      "source": [
        "#### Otra forma de hacerlo"
      ]
    },
    {
      "cell_type": "code",
      "metadata": {
        "id": "X62q3wGjMiDF",
        "outputId": "dcac1812-8d26-4c14-9095-49f26129592b"
      },
      "source": [
        "# Otra forma es 1 - crear una matriz de 1s de tamaño 5x5\n",
        "# Luego 2 - creamos otra matriz de 0s de tamaño 3x3\n",
        "# A la segunda matriz 3 - le cambiamos el centro por 9\n",
        "# Por último 4 - asignamos a los lugares correspondientes de la matriz 5x5, la matriz 3x3\n",
        "rta = np.ones((5,5)) # 1\n",
        "print(rta)\n",
        "cambio = np.zeros((3,3)) # 2\n",
        "print(cambio)\n",
        "cambio[1,1] = 9 # 3\n",
        "print(cambio)\n",
        "rta[1:4,1:4] = cambio # 4\n",
        "print(rta) # Así quedaría terminada nuestra matriz\n"
      ],
      "execution_count": null,
      "outputs": [
        {
          "output_type": "stream",
          "text": [
            "[[1. 1. 1. 1. 1.]\n",
            " [1. 1. 1. 1. 1.]\n",
            " [1. 1. 1. 1. 1.]\n",
            " [1. 1. 1. 1. 1.]\n",
            " [1. 1. 1. 1. 1.]]\n",
            "[[0. 0. 0.]\n",
            " [0. 0. 0.]\n",
            " [0. 0. 0.]]\n",
            "[[0. 0. 0.]\n",
            " [0. 9. 0.]\n",
            " [0. 0. 0.]]\n",
            "[[1. 1. 1. 1. 1.]\n",
            " [1. 0. 0. 0. 1.]\n",
            " [1. 0. 9. 0. 1.]\n",
            " [1. 0. 0. 0. 1.]\n",
            " [1. 1. 1. 1. 1.]]\n"
          ],
          "name": "stdout"
        }
      ]
    },
    {
      "cell_type": "markdown",
      "metadata": {
        "id": "3dT_Ybu5MiDJ"
      },
      "source": [
        "### Ten cuidado al copiar Matrices"
      ]
    },
    {
      "cell_type": "code",
      "metadata": {
        "id": "KcgKhiXyMiDK",
        "outputId": "a9f22198-35bb-4626-dd2b-c726c222e412"
      },
      "source": [
        "# Si creamos una matriz a cualquiera, y queremos copiar la misma matriz en una variable x, funcionará\n",
        "# El problema está si editamos cualquier elemento de x tambien se cambiará en a, de la siguiente forma\n",
        "a = np.array([1,2,3])\n",
        "x = a\n",
        "x[0] = 10 # Cambiamos el 1 de la matriz x por 10\n",
        "# ¿Qué crees que pasará cuando imprimamos a y x?\n",
        "print(a)\n",
        "print(x)\n",
        "# Adivinaste, en a también se cambió el valor\n",
        "# Esto ocurre ya que tu le asignaste que uno será igual a la otra con x = a, entonces\n",
        "# Para cualquier cambio que ocurra en alguna de las dos, se hará tambien en la otra. (Son la misma matriz)"
      ],
      "execution_count": null,
      "outputs": [
        {
          "output_type": "stream",
          "text": [
            "[10  2  3]\n",
            "[10  2  3]\n"
          ],
          "name": "stdout"
        }
      ]
    },
    {
      "cell_type": "code",
      "metadata": {
        "id": "LpUzlFzDMiDO",
        "outputId": "8ff00130-91d3-427d-f38e-0355cf870491"
      },
      "source": [
        "# Si queremos hacer una copia sin que x sea la misma matriz que a, es decir\n",
        "# si editamos x no editaremos a y viceversa\n",
        "# usaremos la función .copy(), por ejemplo\n",
        "\n",
        "a = np.array([1,2,3]) # Creamos una matriz normalmente\n",
        "x = a.copy() # Creamos una copia\n",
        "x[0] = 10 # Cambiamos lo que queramos de x\n",
        "\n",
        "#Imprimimos por pantalla para ver el resultado de ambas\n",
        "\n",
        "print(a)\n",
        "print(x)"
      ],
      "execution_count": null,
      "outputs": [
        {
          "output_type": "stream",
          "text": [
            "[1 2 3]\n",
            "[10  2  3]\n"
          ],
          "name": "stdout"
        }
      ]
    },
    {
      "cell_type": "markdown",
      "metadata": {
        "id": "8LivFAD1MiDT"
      },
      "source": [
        "## Matemáticas con Numpy"
      ]
    },
    {
      "cell_type": "markdown",
      "metadata": {
        "id": "DgmG_ygdMiDU"
      },
      "source": [
        "### Operaciones Básicas"
      ]
    },
    {
      "cell_type": "code",
      "metadata": {
        "id": "cI2L1iuKMiDV"
      },
      "source": [
        "# Uno de los usos más grandes de Numpy es en las matemáticas\n",
        "# En esta sección introduciremos algunos conceptos"
      ],
      "execution_count": null,
      "outputs": []
    },
    {
      "cell_type": "code",
      "metadata": {
        "id": "uWvVb1QUMiDZ",
        "outputId": "1c43c428-dbe4-4cf8-a08f-6723a3f23cfb"
      },
      "source": [
        "# Podemos operar entre matrices y escalares, para ello...\n",
        "a = np.array([1,2,3,4])\n",
        "print(a)\n",
        "a += 2 # Por cada elemento le sumamos 2\n",
        "print(a)"
      ],
      "execution_count": null,
      "outputs": [
        {
          "output_type": "stream",
          "text": [
            "[1 2 3 4]\n",
            "[3 4 5 6]\n"
          ],
          "name": "stdout"
        }
      ]
    },
    {
      "cell_type": "code",
      "metadata": {
        "id": "koYZvi0mMiDe",
        "outputId": "f31595ea-c913-4793-cb2e-051762299cb0"
      },
      "source": [
        "# De la misma forma podemos restar, a continuación por cada elemento restaremos 3\n",
        "a -= 3\n",
        "print(a)"
      ],
      "execution_count": null,
      "outputs": [
        {
          "output_type": "stream",
          "text": [
            "[0 1 2 3]\n"
          ],
          "name": "stdout"
        }
      ]
    },
    {
      "cell_type": "code",
      "metadata": {
        "id": "ncYRdxPWMiDi",
        "outputId": "81249879-4955-4324-a2fc-c203b58e9111"
      },
      "source": [
        "# A continuación veremos que tambien se puede multiplicar a cada elemento por un escalar\n",
        "# En el ejemplo multiplicaremos cada elemento por 5\n",
        "\n",
        "a = a*5\n",
        "print(a)\n",
        "\n",
        "# Como vemos en estos casos estamos modificando la matriz\n",
        "# En caso de querer practicar las operaciones sin modificarlas podemos hacer\n",
        "# print(a*2) o print(a-4), etc"
      ],
      "execution_count": null,
      "outputs": [
        {
          "output_type": "stream",
          "text": [
            "[ 0  5 10 15]\n"
          ],
          "name": "stdout"
        }
      ]
    },
    {
      "cell_type": "code",
      "metadata": {
        "id": "rroupi3TMiDp",
        "outputId": "2abbe9f6-e555-4c33-e99e-abad23304114"
      },
      "source": [
        "# De la misma forma podemos dividir cada elemento entre un escalar\n",
        "# En este ejemplo dividiremos por 2\n",
        "a = a/2\n",
        "print(a)\n",
        "# Esto nos devolverá una matriz de números decimales ya que la división no es exacta"
      ],
      "execution_count": null,
      "outputs": [
        {
          "output_type": "stream",
          "text": [
            "[0.  2.5 5.  7.5]\n"
          ],
          "name": "stdout"
        }
      ]
    },
    {
      "cell_type": "code",
      "metadata": {
        "id": "2Su3Hw9WMiDz",
        "outputId": "0760ff54-c1a9-4a56-efda-e8cff8cd82ea"
      },
      "source": [
        "# También podremos sumar matrices siempre que estas tengan el mismo tamaño\n",
        "# Por ejemplo al actual valor en a le sumaremos una nueva matriz b\n",
        "\n",
        "b = np.array([10,2.5,0,2.5])\n",
        "c = a+b # Creamos una nueva matriz que guarde el valor de la suma entre a y b\n",
        "print(a)\n",
        "print(b)\n",
        "print(c)"
      ],
      "execution_count": null,
      "outputs": [
        {
          "output_type": "stream",
          "text": [
            "[0.  2.5 5.  7.5]\n",
            "[10.   2.5  0.   2.5]\n",
            "[10.  5.  5. 10.]\n"
          ],
          "name": "stdout"
        }
      ]
    },
    {
      "cell_type": "code",
      "metadata": {
        "id": "angMAT7sMiD7",
        "outputId": "44d87b31-3bb2-486b-b651-257be04b8855"
      },
      "source": [
        "# Otra operación que podremos realizar es elevar cada elemento de la matriz por un número\n",
        "# en este ejemplo elevaremos c al cuadrado\n",
        "print (c**2)\n",
        "# Tambien existe una función para elevar cada elemento a un número, la misma es np.exp\n",
        "print(np.power(c,2)) # Tambien podremos elevar una matriz por otra"
      ],
      "execution_count": null,
      "outputs": [
        {
          "output_type": "stream",
          "text": [
            "[100.  25.  25. 100.]\n",
            "[100.  25.  25. 100.]\n"
          ],
          "name": "stdout"
        }
      ]
    },
    {
      "cell_type": "code",
      "metadata": {
        "id": "wW1Aro75MiEJ",
        "outputId": "1034f3e9-a1e0-47a6-a9e3-bf21e5f52269"
      },
      "source": [
        "# Podemos calcular la sumatoria y la multiplicación de los elementos del vector con la funcion\n",
        "# Los mismos se pueden calcular como la sumatoria por fila (axis = 1) o sumatoria por columnas (axis = 0)\n",
        "# Para ello utilizaremos las siguientes funciones\n",
        "a = np.array([[2,4,6,8]])\n",
        "a2d = a.repeat(3,axis = 0)\n",
        "print(a)\n",
        "print(a2d)\n",
        "print(a.sum())\n",
        "print(a2d.sum(axis = 0))\n",
        "print(a.prod())\n",
        "print(a2d.prod(axis = 0))"
      ],
      "execution_count": null,
      "outputs": [
        {
          "output_type": "stream",
          "text": [
            "[[2 4 6 8]]\n",
            "[[2 4 6 8]\n",
            " [2 4 6 8]\n",
            " [2 4 6 8]]\n",
            "20\n",
            "[ 6 12 18 24]\n",
            "384\n",
            "[  8  64 216 512]\n"
          ],
          "name": "stdout"
        }
      ]
    },
    {
      "cell_type": "markdown",
      "metadata": {
        "id": "lCrsxrIsMiER"
      },
      "source": [
        "### Funciones Trigonometricas"
      ]
    },
    {
      "cell_type": "code",
      "metadata": {
        "id": "FiqeY1scMiES",
        "outputId": "5b0ea10f-9736-4311-8298-b15cc0f8e76a"
      },
      "source": [
        "# También por ejemplo podemos realizar el seno, el coseno y la tangente de cada elemento de una matriz\n",
        "# acá vemos un ejemplo\n",
        "rad = np.array([1,2,3,4])\n",
        "print(np.sin(rad))\n",
        "print(np.cos(rad))\n",
        "print(np.tan(rad))\n",
        "# Tanto seno, coseno y tang de una matriz se pueden realizar con respectivas funciones\n",
        "# Las funciones anteriores utilizan como unidad los radianes\n",
        "# Para convertirlo de radianes a grados usaremos la función np.degrees(matriz/vector/etc)\n",
        "print(np.degrees(rad)) # Nos mostrára cuantos grados son los elementos que le pasemos"
      ],
      "execution_count": null,
      "outputs": [
        {
          "output_type": "stream",
          "text": [
            "[ 0.84147098  0.90929743  0.14112001 -0.7568025 ]\n",
            "[ 0.54030231 -0.41614684 -0.9899925  -0.65364362]\n",
            "[ 1.55740772 -2.18503986 -0.14254654  1.15782128]\n",
            "[ 57.29577951 114.59155903 171.88733854 229.18311805]\n"
          ],
          "name": "stdout"
        }
      ]
    },
    {
      "cell_type": "code",
      "metadata": {
        "id": "CRZ2G67kMiEZ",
        "outputId": "1f722c42-1e5d-41b8-f069-31f713f04230"
      },
      "source": [
        "# También conociendo los dos catetos de un triángulo rectángulo, podemos calcular la hipotenusa\n",
        "# Esto lo haremos con la función np.hypot(cat1,cat2), por ejemplo\n",
        "cat = np.array([20,12]) \n",
        "# Suponiendo que tenemos 20 y 12 mts de cateto, calcularemos la hipotenusa\n",
        "np.hypot(cat[0],cat[1])"
      ],
      "execution_count": null,
      "outputs": [
        {
          "output_type": "execute_result",
          "data": {
            "text/plain": [
              "23.323807579381203"
            ]
          },
          "metadata": {
            "tags": []
          },
          "execution_count": 62
        }
      ]
    },
    {
      "cell_type": "code",
      "metadata": {
        "id": "v2QO_NmIMiEg",
        "outputId": "ea80588c-5d93-4b42-dc75-0e172e1235b2"
      },
      "source": [
        "# Suponiendo que conocemos 2 de las 3 componentes de un ángulo\n",
        "# Podremos encontrar el ángulo conformado entre ellos\n",
        "# Para ello usaremos arcsen,arccos o arctan según que partes del triángulo tengamos\n",
        "# Supongamos que tenemos la hipotenusa y el cateto adyacente, obtendremos alfa de la sig forma:\n",
        "# Recuerden la \"Regla\" SOH - CAH - TOA que indica para los datos que tengamos que función utilizar\n",
        "# En nuestro caso tenemos adyacente e hipotenusa, por ello usaremos el Coseno, entonces\n",
        "datos = np.array([20,23]) # Declaramos adyac e hipotenusa respectivamente\n",
        "alfa = np.arccos(datos[0]/datos[1])\n",
        "print(np.degrees(alfa)) # Imprimimos alfa en grados"
      ],
      "execution_count": null,
      "outputs": [
        {
          "output_type": "stream",
          "text": [
            "29.591845793950736\n"
          ],
          "name": "stdout"
        }
      ]
    },
    {
      "cell_type": "markdown",
      "metadata": {
        "id": "nk8sxZIkMiEo"
      },
      "source": [
        "### Redondeo, Truncamiento y otras"
      ]
    },
    {
      "cell_type": "code",
      "metadata": {
        "id": "Q1AYny4uMiEq",
        "outputId": "c63850df-2534-481f-cda7-c7ceb7e219cd"
      },
      "source": [
        "# Para realizar truncamientos, redondeos y demas utilizaremos las funciones\n",
        "a = np.array([1.394,3.666,5.788])\n",
        "print(np.trunc(a)) # Devuelve solo el número entero\n",
        "print(np.around(a,2)) # Devuelve los números redondeados a la cifra que indiquemos\n",
        "print(np.round(a,1))\n",
        "print(np.floor(a)) # Devuelve el número entero menor más cercano\n",
        "print(np.ceil(a)) # Devuelve el número entero mayor más cercano"
      ],
      "execution_count": null,
      "outputs": [
        {
          "output_type": "stream",
          "text": [
            "[1. 3. 5.]\n",
            "[1.39 3.67 5.79]\n",
            "[1.4 3.7 5.8]\n",
            "[1. 3. 5.]\n",
            "[2. 4. 6.]\n",
            "[1. 3. 5.]\n"
          ],
          "name": "stdout"
        }
      ]
    },
    {
      "cell_type": "code",
      "metadata": {
        "id": "eN8cJsAJMiEy",
        "outputId": "d603fe5f-d013-4e9b-eed1-f0c7ab4d3ccc"
      },
      "source": [
        "# Para encontrar el mcm y dcm de dos números usaremos las funciones\n",
        "# DCM - función np.gcd(x1,x2)\n",
        "# mcm - función np.lcm(x1,x2)\n",
        "print(np.gcd(8,20)) # Máximo común divisor entre 8 y 20 = 4\n",
        "print(np.lcm(8,18)) # Mínimo común múltiplo entre 8 y 18 = 72"
      ],
      "execution_count": null,
      "outputs": [
        {
          "output_type": "stream",
          "text": [
            "4\n",
            "72\n"
          ],
          "name": "stdout"
        }
      ]
    },
    {
      "cell_type": "code",
      "metadata": {
        "id": "wmZyQ6cNMiE5"
      },
      "source": [
        "# Hay más funciones, no las trabajaremos en esta introducción\n",
        "# si te interesan te las dejo en la pagina principal del repo"
      ],
      "execution_count": null,
      "outputs": []
    },
    {
      "cell_type": "markdown",
      "metadata": {
        "id": "9EvBGo-_MiE_"
      },
      "source": [
        "## Álgebra lineal con Numpy"
      ]
    },
    {
      "cell_type": "code",
      "metadata": {
        "id": "D1bu3-UoMiFB",
        "outputId": "fe705703-5407-48cf-9573-2488dbe1429e"
      },
      "source": [
        "# Para realizar el producto punto entre dos vectores- función np.vdot(vect1,vect2)\n",
        "a = np.array([1,2,3,4])\n",
        "b = np.array([5,6,7,8])\n",
        "print(a)\n",
        "print(b)\n",
        "print(np.vdot(a,b)) # realiza (a[0]*b[0])+(a[1]*b[1])+....(a[n]*b[n])\n",
        "\n",
        "# Para realizar el producto punto entre dos matrices - función np.dot(matriz1,matriz2)\n",
        "amat = np.array([[1,2],[3,4]])\n",
        "bmat = np.array([[5,6],[7,8]])\n",
        "print(amat)\n",
        "print(bmat)\n",
        "print(np.dot(amat,bmat),\"\\n\") # Realiza para c[1,1] = a[1,1] * b[1,1] + a[1,2] * b[2,1], igual para el resto\n",
        "\n",
        "# Para realizar el producto escalar entre dos matrices - función np.inner(matriz1,matriz2)\n",
        "print(np.inner(amat,bmat))\n",
        "\n",
        "# Para realizar el producto escalar entre dos vectores - función np.outer(vect1,vect2)\n",
        "print(np.outer(a,b)) \n",
        "# Realiza a[0]*b, a[1]*b, a[2]*b, a[3]*b .. Forma una matriz con los elementos de a como escalares y las filas de b"
      ],
      "execution_count": null,
      "outputs": [
        {
          "output_type": "stream",
          "text": [
            "[1 2 3 4]\n",
            "[5 6 7 8]\n",
            "70\n",
            "[[1 2]\n",
            " [3 4]]\n",
            "[[5 6]\n",
            " [7 8]]\n",
            "[[19 22]\n",
            " [43 50]] \n",
            "\n",
            "[[17 23]\n",
            " [39 53]]\n",
            "[[ 5  6  7  8]\n",
            " [10 12 14 16]\n",
            " [15 18 21 24]\n",
            " [20 24 28 32]]\n"
          ],
          "name": "stdout"
        }
      ]
    },
    {
      "cell_type": "code",
      "metadata": {
        "id": "At9Jd4KIMiFH",
        "outputId": "4c7b0ad2-fc76-4417-d945-1f39643e759c"
      },
      "source": [
        "# Recordemos que para multiplicar matrices, debemos de tener una matriz a n.m y b n.m\n",
        "# de modo tal que la cant de col de a sea igual a la cant de filas de b \n",
        "# y que las filas de a y las columnas de b determinarán su tamaño, para ello\n",
        "# usaremos la función np.matmul(matriz1,matriz2)\n",
        "\n",
        "a = np.identity(3,dtype=\"int16\") # Matriz a = identidad 3x3(1s en la diagonal principal)\n",
        "print(a)\n",
        "\n",
        "b = np.full((3,3),5) # matriz b = matriz 3x3 completa con 5\n",
        "print (b)\n",
        "\n",
        "print(np.matmul(a,b)) # Producto entre la matriz a y la matriz b, nueva matriz 3x3\n",
        "# Véase el producto entre matrices en https://es.wikipedia.org/wiki/Multiplicaci%C3%B3n_de_matrices"
      ],
      "execution_count": null,
      "outputs": [
        {
          "output_type": "stream",
          "text": [
            "[[1 0 0]\n",
            " [0 1 0]\n",
            " [0 0 1]]\n",
            "[[5 5 5]\n",
            " [5 5 5]\n",
            " [5 5 5]]\n",
            "[[5 5 5]\n",
            " [5 5 5]\n",
            " [5 5 5]]\n"
          ],
          "name": "stdout"
        }
      ]
    },
    {
      "cell_type": "code",
      "metadata": {
        "id": "AT96kx2sMiFM",
        "outputId": "dff157d3-c364-4b9b-8b18-059c99d8daac"
      },
      "source": [
        "# Para buscar el Determinante de una matriz debemos de recordar que la matriz debe de ser cuadrada\n",
        "# El Determinante indicará el número de soluciones de los respectivos sistemas de ecuaciones lineales\n",
        "a = np.array([[1,1],[2,1]])\n",
        "print(a)\n",
        "print(np.linalg.det(a)) \n",
        "# Determinante de a que es lo mismo que\n",
        "# la diferencia entre la mult de los elementos de la diag principal y la mult de los elementos de la diag secundaria\n",
        "# queda conformada una x en la matriz, por ejemplo para este caso es [1*1]-[1*2] que nos dará como resultado -1"
      ],
      "execution_count": null,
      "outputs": [
        {
          "output_type": "stream",
          "text": [
            "[[1 1]\n",
            " [2 1]]\n",
            "-1.0\n"
          ],
          "name": "stdout"
        }
      ]
    },
    {
      "cell_type": "code",
      "metadata": {
        "id": "ajEbRfG-MiFQ"
      },
      "source": [
        "# Existe más información y más funciones aplicables al álgebra lineal\n",
        "# Para saber más puedes visitar la página que dejaré en el repo"
      ],
      "execution_count": null,
      "outputs": []
    },
    {
      "cell_type": "markdown",
      "metadata": {
        "id": "CXJWcc6MMiFX"
      },
      "source": [
        "### Estadísticas con Numpy"
      ]
    },
    {
      "cell_type": "code",
      "metadata": {
        "id": "c1IgOhDMMiFX",
        "outputId": "dbcfca6e-d288-46b5-cfea-cfb30ec1deed"
      },
      "source": [
        "# Podemos obtener el mínimo de una matriz - Función np.min(matriz)\n",
        "estadisticas = np.array ([[1,2,3],[4,5,6],[7,8,9]])\n",
        "print(estadisticas)\n",
        "\n",
        "minimo = np.min(estadisticas)\n",
        "print(minimo)\n",
        "\n",
        "# También podremos obtener el máximo de una matriz - Función np.max(matriz)\n",
        "maximo = np.max(estadisticas)\n",
        "print(maximo)\n",
        "\n",
        "# Esos serían los mínimos y máximos de toda la matriz pero que pasa si queremos obtenerlos por filas o columnas?\n",
        "# Debemos agregar el parametro axis en la función np.max(), por ejemplo\n",
        "\n",
        "print(np.min(estadisticas,axis = 0)) # Por columna obtenemos que los menores son 1 2 y 3\n",
        "print(np.min(estadisticas,axis = 1)) # Por fila obtenemos que los menores son 1 4 y 7\n",
        "\n",
        "print(np.max(estadisticas,axis = 0)) # Por columna obtenemos que los más grandes son 7 8 y 9\n",
        "print(np.max(estadisticas,axis = 1)) # Por fila obtenemos que los más grandes son 3 6 y 9"
      ],
      "execution_count": null,
      "outputs": [
        {
          "output_type": "stream",
          "text": [
            "[[1 2 3]\n",
            " [4 5 6]\n",
            " [7 8 9]]\n",
            "1\n",
            "9\n",
            "[1 2 3]\n",
            "[1 4 7]\n",
            "[7 8 9]\n",
            "[3 6 9]\n"
          ],
          "name": "stdout"
        }
      ]
    },
    {
      "cell_type": "markdown",
      "metadata": {
        "id": "uHmTduXwMiFe"
      },
      "source": [
        "### Reorganizar Matrices"
      ]
    },
    {
      "cell_type": "code",
      "metadata": {
        "id": "KR6mTLoWMiFf",
        "outputId": "57cfdd1c-82bd-482d-acdd-794ef2cc6e41"
      },
      "source": [
        "# Para cambiarle la forma a una matriz - Función np.reshape(matriz,(cantfilas,cantcol)) o nombmatriz.reshape(forma)\n",
        "\n",
        "antes = np.array ([[1,2],[3,4],[5,6],[7,8]])\n",
        "despues = np.reshape(antes,(2,4)) # Generamos una matriz 2x4 con la Forma 1 \n",
        "despues2 = antes.reshape(2,2,2) # Generamos una matriz 3d con la Forma 2\n",
        "\n",
        "# Recordemos que debemos de obtener con el reshape la misma cantidad de elementos que la forma original\n",
        "# De lo contrario obtendremos un error que indica que son menos o más elementos de lo que posee la matriz original\n",
        "\n",
        "print(antes)\n",
        "print(despues)\n",
        "print(despues2)"
      ],
      "execution_count": null,
      "outputs": [
        {
          "output_type": "stream",
          "text": [
            "[[1 2]\n",
            " [3 4]\n",
            " [5 6]\n",
            " [7 8]]\n",
            "[[1 2 3 4]\n",
            " [5 6 7 8]]\n",
            "[[[1 2]\n",
            "  [3 4]]\n",
            "\n",
            " [[5 6]\n",
            "  [7 8]]]\n"
          ],
          "name": "stdout"
        }
      ]
    },
    {
      "cell_type": "code",
      "metadata": {
        "id": "t1JjFNxYMiFj",
        "outputId": "86867ecd-d582-4b8a-ae3c-6e4ed560a7f0"
      },
      "source": [
        "# Para apilar vectores de forma vertical - Función np.vstack([v1,v2,v3,...]) * Orden de arriba hacia abajo\n",
        "vect1 = np.array([1,2,3])\n",
        "vect2 = np.array([4,5,6])\n",
        "\n",
        "print(np.vstack([vect1,vect2])) # Quedará arriba 1,2,3 y debajo 4,5,6\n",
        "print(np.vstack([vect2,vect1])) # Quedará arriba 4,5,6 y debajo 1,2,3\n",
        "\n",
        "# Recordemos que los vectores que stackeemos deben de tener el mismo largo\n",
        "# Podemos stackear cuantos vectores queramos, por ejemplo\n",
        "\n",
        "print(np.vstack([vect1,vect2,vect2,vect1]))"
      ],
      "execution_count": null,
      "outputs": [
        {
          "output_type": "stream",
          "text": [
            "[[1 2 3]\n",
            " [4 5 6]]\n",
            "[[4 5 6]\n",
            " [1 2 3]]\n",
            "[[1 2 3]\n",
            " [4 5 6]\n",
            " [4 5 6]\n",
            " [1 2 3]]\n"
          ],
          "name": "stdout"
        }
      ]
    },
    {
      "cell_type": "code",
      "metadata": {
        "id": "ihKiGHngMiFm",
        "outputId": "4a68b95d-516e-485e-fba6-9105bc9b639a"
      },
      "source": [
        "# Para stackear vectores de forma horizontal - Función np.hstack([v1,v2,v3,....]) * Orden de izquierda a derecha\n",
        "vect1 = np.array([1,2,3])\n",
        "vect2 = np.array([4,5,6])\n",
        "vect3 = np.array([7,8,9])\n",
        "\n",
        "# En este caso no necesitamos que los vectores a stackear horizontalmente sean del mismo tamaño\n",
        "\n",
        "print(np.hstack([vect1,vect2,vect3]))\n",
        "print(np.hstack([vect3,vect2,vect2,vect1]))"
      ],
      "execution_count": null,
      "outputs": [
        {
          "output_type": "stream",
          "text": [
            "[1 2 3 4 5 6 7 8 9]\n",
            "[7 8 9 4 5 6 4 5 6 1 2 3]\n"
          ],
          "name": "stdout"
        }
      ]
    },
    {
      "cell_type": "markdown",
      "metadata": {
        "id": "tVioGjJQMiFs"
      },
      "source": [
        "## Otras cosas interesantes Numpy"
      ]
    },
    {
      "cell_type": "markdown",
      "metadata": {
        "id": "0aZ8zie1MiFt"
      },
      "source": [
        "### Leer datos de un archivo"
      ]
    },
    {
      "cell_type": "code",
      "metadata": {
        "id": "zF6n_tGyMiFu",
        "outputId": "2b46258a-8731-49db-f442-8c03cdd57580"
      },
      "source": [
        "# En caso de no utilizar pandas para leer archivos, podemos trabajar también con numpy\n",
        "# Para ello necesitaremos obviamente un archivo de texto de donde leer datos\n",
        "# En nuestro caso estará en el repositorio y se llama data.txt\n",
        "# En este caso generaremos de un txt y la función a utilizar es np.genfromtxt(nombredelarchivo,delimitador,dtype)\n",
        "data = np.genfromtxt('data.txt',delimiter=',',dtype = 'int16')\n",
        "# Recordemos que para crear una matriz los vectores deben de tener la misma longitud\n",
        "# En el caso contrario, si queremos importar desde un txt en que un vector tenga más elementos que otro\n",
        "# Obtendremos un error que nos indicara eso\n",
        "print(data)"
      ],
      "execution_count": null,
      "outputs": [
        {
          "output_type": "stream",
          "text": [
            "[[70 84 93 88  7 35 32 71 27 25]\n",
            " [54 11 26 12 55 23 19 42 58 48]\n",
            " [18 29 45 10 93 49 17 24 59 75]]\n"
          ],
          "name": "stdout"
        }
      ]
    },
    {
      "cell_type": "markdown",
      "metadata": {
        "id": "_3LtBM9hMiFz"
      },
      "source": [
        "### Enmascaramiento booleano e indexación avanzada "
      ]
    },
    {
      "cell_type": "code",
      "metadata": {
        "id": "s6yvHQcgMiF0",
        "outputId": "23f7a72f-e05a-4a11-aa82-08bc450ee6b9"
      },
      "source": [
        "# Podemos obtener cierta información de manera booleana con ayuda de Numpy\n",
        "# Por ejemplo si quisiéramos saber cual dato en la matriz es mayor a 50 hariamos\n",
        "data > 50"
      ],
      "execution_count": null,
      "outputs": [
        {
          "output_type": "execute_result",
          "data": {
            "text/plain": [
              "array([[ True,  True,  True,  True, False, False, False,  True, False,\n",
              "        False],\n",
              "       [ True, False, False, False,  True, False, False, False,  True,\n",
              "        False],\n",
              "       [False, False, False, False,  True, False, False, False,  True,\n",
              "         True]])"
            ]
          },
          "metadata": {
            "tags": []
          },
          "execution_count": 216
        }
      ]
    },
    {
      "cell_type": "code",
      "metadata": {
        "id": "2g282qAyMiF4",
        "outputId": "89fb3b5a-af90-41ff-8f91-776008c7cd1a"
      },
      "source": [
        "# También podriamos obtener de forma directa los elementos que cumplen una condición\n",
        "# Para ello pondremos el nombre de la matriz y en el indice pondremos la condición, de la siguiente forma\n",
        "mayores_a_50 = data[data>50]\n",
        "mayores_a_50"
      ],
      "execution_count": null,
      "outputs": [
        {
          "output_type": "execute_result",
          "data": {
            "text/plain": [
              "array([70, 84, 93, 88, 71, 54, 55, 58, 93, 59, 75], dtype=int16)"
            ]
          },
          "metadata": {
            "tags": []
          },
          "execution_count": 220
        }
      ]
    },
    {
      "cell_type": "code",
      "metadata": {
        "id": "pnYiy7HaMiF8",
        "outputId": "0e19b884-eeb1-4ae3-fcaa-512d5d342a78"
      },
      "source": [
        "# En numpy se permite indexar con listas, de manera tal que podemos obtener ciertos elementos de esta forma\n",
        "# Supongamos que queremos obtener el primero y el último de los mayores a 50\n",
        "mayores_a_50[[0,-1]] # Nos devolverá el elemento de indice 0(primero) y el elemento de indice -1 (último)"
      ],
      "execution_count": null,
      "outputs": [
        {
          "output_type": "execute_result",
          "data": {
            "text/plain": [
              "array([70, 75], dtype=int16)"
            ]
          },
          "metadata": {
            "tags": []
          },
          "execution_count": 221
        }
      ]
    },
    {
      "cell_type": "code",
      "metadata": {
        "id": "2qc2AHfCMiGJ",
        "outputId": "fd7e4e49-2adc-4212-fee4-0f53c851fa1b"
      },
      "source": [
        "# También podriamos comprobar si existen mayores a 50 entre las filas, lo haríamos de esta forma\n",
        "np.any(data > 50,axis = 0) # Esto comprueba si alguno en la columna tiene un valor mayor que 50"
      ],
      "execution_count": null,
      "outputs": [
        {
          "output_type": "execute_result",
          "data": {
            "text/plain": [
              "array([ True,  True,  True,  True,  True, False, False,  True,  True,\n",
              "        True])"
            ]
          },
          "metadata": {
            "tags": []
          },
          "execution_count": 222
        }
      ]
    },
    {
      "cell_type": "code",
      "metadata": {
        "id": "JB9xzozcMiGO",
        "outputId": "c0bd73ca-e11c-4e03-c159-3a3217130958"
      },
      "source": [
        "# También podriamos comprobar si todos los elementos de la columna \n",
        "# cumplen con esa condición, para ello cambiamos any por all\n",
        "np.all(data > 25, axis = 0) \n",
        "# Cambiamos la condición para 25 para que haya algunos true, puedes comprobarlo tú mismo. Experimenta.\n",
        "# Podrías realizar las mismas pruebas para las filas, solo tendrías que cambiar axis = 0 por axis = 1."
      ],
      "execution_count": null,
      "outputs": [
        {
          "output_type": "execute_result",
          "data": {
            "text/plain": [
              "array([False, False,  True, False, False, False, False, False,  True,\n",
              "       False])"
            ]
          },
          "metadata": {
            "tags": []
          },
          "execution_count": 228
        }
      ]
    },
    {
      "cell_type": "code",
      "metadata": {
        "id": "oKKowyn7MiGR",
        "outputId": "1b0c8d0f-2b44-408c-d548-1bf6485d7d08"
      },
      "source": [
        "# Otra cosa que podrías cambiar para probar son las condiciones, podrias armar condiciones complejas\n",
        "# Por ejemplo crearemos una función que obtenga los mayores a 50 y menores de 70 más los menores de 20\n",
        "(((50 < data) & (data < 70)) + (data < 20))"
      ],
      "execution_count": null,
      "outputs": [
        {
          "output_type": "execute_result",
          "data": {
            "text/plain": [
              "array([[False, False, False, False,  True, False, False, False, False,\n",
              "        False],\n",
              "       [ True,  True, False,  True,  True, False,  True, False,  True,\n",
              "        False],\n",
              "       [ True, False, False,  True, False, False,  True, False,  True,\n",
              "        False]])"
            ]
          },
          "metadata": {
            "tags": []
          },
          "execution_count": 244
        }
      ]
    },
    {
      "cell_type": "code",
      "metadata": {
        "id": "RoTq6rpCMiGV",
        "outputId": "383921f5-93f7-4591-9259-d348a3db223b"
      },
      "source": [
        "# Si quisieramos obtener como true todos los que no cumplan una condición, deberiamos de cambiar la condición\n",
        "# Pero una forma más sencilla es negar esa condición, de forma que invertiriamos los resultados, tal que así\n",
        "(~((50 < data) & (data < 70)) + (data < 20)) \n",
        "# Tan solo agregamos el simbolo \"~\" delante de la proposición a negar"
      ],
      "execution_count": null,
      "outputs": [
        {
          "output_type": "execute_result",
          "data": {
            "text/plain": [
              "array([[ True,  True,  True,  True,  True,  True,  True,  True,  True,\n",
              "         True],\n",
              "       [False,  True,  True,  True, False,  True,  True,  True, False,\n",
              "         True],\n",
              "       [ True,  True,  True,  True,  True,  True,  True,  True, False,\n",
              "         True]])"
            ]
          },
          "metadata": {
            "tags": []
          },
          "execution_count": 246
        }
      ]
    },
    {
      "cell_type": "markdown",
      "metadata": {
        "id": "jmwNIvxsMiGY"
      },
      "source": [
        "### Ejercicio Número 2 : Utilice indexación para llegar al resultado"
      ]
    },
    {
      "cell_type": "code",
      "metadata": {
        "id": "7-mB_Tu_MiGZ",
        "outputId": "246f9e1e-6068-42f5-95ea-5dfaf742b5b8"
      },
      "source": [
        "# Supongamos que tenemos una matriz del 1 al 30 de 6 filas y 5 columnas, de la siguiente forma\n",
        "matriz = np.arange(1,31)\n",
        "matriz = matriz.reshape(6,5)\n",
        "print(matriz)\n",
        "# Entonces queremos obtener con indexación, la matriz [[11,12],[16,17]]\n",
        "# ¿Cómo lo harías? Trata de resolverlo tu solo y luego mira la resolución"
      ],
      "execution_count": null,
      "outputs": [
        {
          "output_type": "stream",
          "text": [
            "[[ 1  2  3  4  5]\n",
            " [ 6  7  8  9 10]\n",
            " [11 12 13 14 15]\n",
            " [16 17 18 19 20]\n",
            " [21 22 23 24 25]\n",
            " [26 27 28 29 30]]\n"
          ],
          "name": "stdout"
        }
      ]
    },
    {
      "cell_type": "code",
      "metadata": {
        "id": "u1izQ_oIMiGd",
        "outputId": "62e52732-bed8-4b09-bf98-daed14c2551d"
      },
      "source": [
        "vect1 = matriz[((matriz > 10) & (matriz < 13))] # Obtenemos los que cumplan con la condición >10 y <13\n",
        "vect2 = matriz[((matriz > 15) & (matriz < 18))] # Obtenemos los que cumplan con la condición >15 y <18\n",
        "print(vect1)\n",
        "print(vect2,\"\\n\")\n",
        "respuesta = np.vstack([vect1,vect2]) # Armamos la matriz a partir de los vectores obtenidos\n",
        "print(respuesta)"
      ],
      "execution_count": null,
      "outputs": [
        {
          "output_type": "stream",
          "text": [
            "[11 12]\n",
            "[16 17] \n",
            "\n",
            "[[11 12]\n",
            " [16 17]]\n"
          ],
          "name": "stdout"
        }
      ]
    },
    {
      "cell_type": "code",
      "metadata": {
        "id": "DFkDo_TPMiGh",
        "outputId": "9996129c-70b5-425a-b6a4-d3b6edceb1c2"
      },
      "source": [
        "# También podemos realizar una forma más sencilla\n",
        "# Esta forma se puede utilizar solo porque ambos vectores están justo uno encima de otro\n",
        "# Usaremos la indexación [filas,columnas] de las matrices para obtener el mismo resultado\n",
        "# Si nos fijamos esta \"submatriz\" va desde la fila 3 a la 4 y de la columna 1 a la 2, esto sería\n",
        "\n",
        "respuesta = matriz[2:4,0:2]\n",
        "print(respuesta) # Obtenemos el mismo resultado"
      ],
      "execution_count": null,
      "outputs": [
        {
          "output_type": "stream",
          "text": [
            "[[11 12]\n",
            " [16 17]]\n"
          ],
          "name": "stdout"
        }
      ]
    },
    {
      "cell_type": "markdown",
      "metadata": {
        "id": "UVb5g1XNMiGk"
      },
      "source": [
        "###### Esto ha sido todo, para más información te dejaré los links a la página oficial de SciPy en el repo, junto con la Wiki de NumPy\n",
        "##### Espero te haya gustado, si es así házmelo saber por mis redes, las cuales tendrás disponibles también en el repo, saludos !"
      ]
    }
  ]
}