{
 "cells": [
  {
   "cell_type": "markdown",
   "metadata": {},
   "source": [
    "# NUMPY"
   ]
  },
  {
   "cell_type": "markdown",
   "metadata": {},
   "source": [
    "### Importamos la librería"
   ]
  },
  {
   "cell_type": "code",
   "execution_count": 2,
   "metadata": {},
   "outputs": [],
   "source": [
    "import numpy as np"
   ]
  },
  {
   "cell_type": "markdown",
   "metadata": {},
   "source": [
    "### Básico"
   ]
  },
  {
   "cell_type": "code",
   "execution_count": 2,
   "metadata": {},
   "outputs": [
    {
     "name": "stdout",
     "output_type": "stream",
     "text": [
      "[1 2 3]\n"
     ]
    }
   ],
   "source": [
    "a = np.array([1,2,3])\n",
    "print(a)"
   ]
  },
  {
   "cell_type": "code",
   "execution_count": 36,
   "metadata": {},
   "outputs": [
    {
     "name": "stdout",
     "output_type": "stream",
     "text": [
      "[[6. 7. 8.]\n",
      " [3. 4. 5.]]\n"
     ]
    }
   ],
   "source": [
    "b = np.array([[6.0,7.0,8.0],[3.0,4.0,5.0]])\n",
    "print(b)"
   ]
  },
  {
   "cell_type": "code",
   "execution_count": 8,
   "metadata": {},
   "outputs": [
    {
     "name": "stdout",
     "output_type": "stream",
     "text": [
      "[[[  1   2   3]\n",
      "  [  4   5   6]\n",
      "  [  7   8   9]]\n",
      "\n",
      " [[ 10  20  30]\n",
      "  [ 40  50  60]\n",
      "  [ 70  80  90]]\n",
      "\n",
      " [[100 200 300]\n",
      "  [400 500 600]\n",
      "  [700 800 900]]]\n"
     ]
    }
   ],
   "source": [
    "c = np.array([[[1,2,3],[4,5,6],[7,8,9]],[[10,20,30],[40,50,60],[70,80,90]],[[100,200,300],[400,500,600],[700,800,900]]])\n",
    "print(c)"
   ]
  },
  {
   "cell_type": "markdown",
   "metadata": {},
   "source": [
    "### Dimensión de la matríz"
   ]
  },
  {
   "cell_type": "code",
   "execution_count": 14,
   "metadata": {},
   "outputs": [
    {
     "name": "stdout",
     "output_type": "stream",
     "text": [
      "1\n",
      "(3,)\n"
     ]
    }
   ],
   "source": [
    "print(a.ndim)\n",
    "print(a.shape)"
   ]
  },
  {
   "cell_type": "code",
   "execution_count": 15,
   "metadata": {},
   "outputs": [
    {
     "name": "stdout",
     "output_type": "stream",
     "text": [
      "2\n",
      "(2, 3)\n"
     ]
    }
   ],
   "source": [
    "print(b.ndim)\n",
    "print(b.shape) # filas - columnas"
   ]
  },
  {
   "cell_type": "code",
   "execution_count": 16,
   "metadata": {},
   "outputs": [
    {
     "name": "stdout",
     "output_type": "stream",
     "text": [
      "3\n",
      "(3, 3, 3)\n"
     ]
    }
   ],
   "source": [
    "print (c.ndim)\n",
    "print(c.shape) # filas - columnas - profundidad"
   ]
  },
  {
   "cell_type": "markdown",
   "metadata": {},
   "source": [
    "### Tipo de la matríz"
   ]
  },
  {
   "cell_type": "code",
   "execution_count": 17,
   "metadata": {},
   "outputs": [
    {
     "data": {
      "text/plain": [
       "dtype('int64')"
      ]
     },
     "execution_count": 17,
     "metadata": {},
     "output_type": "execute_result"
    }
   ],
   "source": [
    "a.dtype"
   ]
  },
  {
   "cell_type": "code",
   "execution_count": 18,
   "metadata": {},
   "outputs": [
    {
     "data": {
      "text/plain": [
       "dtype('float64')"
      ]
     },
     "execution_count": 18,
     "metadata": {},
     "output_type": "execute_result"
    }
   ],
   "source": [
    "b.dtype"
   ]
  },
  {
   "cell_type": "code",
   "execution_count": 20,
   "metadata": {},
   "outputs": [],
   "source": [
    "a = np.array([1,2,3],dtype = 'int16')"
   ]
  },
  {
   "cell_type": "code",
   "execution_count": 21,
   "metadata": {},
   "outputs": [
    {
     "data": {
      "text/plain": [
       "dtype('int16')"
      ]
     },
     "execution_count": 21,
     "metadata": {},
     "output_type": "execute_result"
    }
   ],
   "source": [
    "a.dtype"
   ]
  },
  {
   "cell_type": "code",
   "execution_count": 31,
   "metadata": {},
   "outputs": [
    {
     "data": {
      "text/plain": [
       "dtype('float64')"
      ]
     },
     "execution_count": 31,
     "metadata": {},
     "output_type": "execute_result"
    }
   ],
   "source": [
    "b.dtype"
   ]
  },
  {
   "cell_type": "code",
   "execution_count": 22,
   "metadata": {},
   "outputs": [
    {
     "name": "stdout",
     "output_type": "stream",
     "text": [
      "[1 2 3]\n"
     ]
    }
   ],
   "source": [
    "print(a)"
   ]
  },
  {
   "cell_type": "markdown",
   "metadata": {},
   "source": [
    "### Tamaño de la matríz"
   ]
  },
  {
   "cell_type": "code",
   "execution_count": 23,
   "metadata": {},
   "outputs": [
    {
     "data": {
      "text/plain": [
       "2"
      ]
     },
     "execution_count": 23,
     "metadata": {},
     "output_type": "execute_result"
    }
   ],
   "source": [
    "a.itemsize #Cantidad de bytes que ocupa cada item para int16 = 2 para int 32 = 4 ... etc"
   ]
  },
  {
   "cell_type": "code",
   "execution_count": 24,
   "metadata": {},
   "outputs": [
    {
     "data": {
      "text/plain": [
       "3"
      ]
     },
     "execution_count": 24,
     "metadata": {},
     "output_type": "execute_result"
    }
   ],
   "source": [
    "a.size"
   ]
  },
  {
   "cell_type": "code",
   "execution_count": 25,
   "metadata": {},
   "outputs": [
    {
     "data": {
      "text/plain": [
       "6"
      ]
     },
     "execution_count": 25,
     "metadata": {},
     "output_type": "execute_result"
    }
   ],
   "source": [
    "b.size # 3 columas, 2 filas"
   ]
  },
  {
   "cell_type": "code",
   "execution_count": 26,
   "metadata": {},
   "outputs": [
    {
     "data": {
      "text/plain": [
       "27"
      ]
     },
     "execution_count": 26,
     "metadata": {},
     "output_type": "execute_result"
    }
   ],
   "source": [
    "c.size # 3 col, 3 filas y 3 profundidad"
   ]
  },
  {
   "cell_type": "code",
   "execution_count": 27,
   "metadata": {},
   "outputs": [
    {
     "data": {
      "text/plain": [
       "6"
      ]
     },
     "execution_count": 27,
     "metadata": {},
     "output_type": "execute_result"
    }
   ],
   "source": [
    "a.nbytes # cantidad de bytes totales que ocupa la matriz en memoria"
   ]
  },
  {
   "cell_type": "code",
   "execution_count": 37,
   "metadata": {},
   "outputs": [
    {
     "name": "stdout",
     "output_type": "stream",
     "text": [
      "48\n",
      "float64\n"
     ]
    }
   ],
   "source": [
    "print(b.nbytes)\n",
    "print(b.dtype)"
   ]
  },
  {
   "cell_type": "code",
   "execution_count": 29,
   "metadata": {
    "scrolled": true
   },
   "outputs": [
    {
     "data": {
      "text/plain": [
       "216"
      ]
     },
     "execution_count": 29,
     "metadata": {},
     "output_type": "execute_result"
    }
   ],
   "source": [
    "c.nbytes"
   ]
  },
  {
   "cell_type": "code",
   "execution_count": 38,
   "metadata": {},
   "outputs": [
    {
     "data": {
      "text/plain": [
       "12"
      ]
     },
     "execution_count": 38,
     "metadata": {},
     "output_type": "execute_result"
    }
   ],
   "source": [
    "b = np.array([[6.0,7.0,8.0],[3.0,4.0,5.0]],dtype = 'float16')\n",
    "b.nbytes # Al cambiar el timpo de matriz a float16 ahorramos espacio en memoria innecesario\n",
    "# Esto hace el proceso y la operación con matrices mucho más rapida"
   ]
  },
  {
   "cell_type": "markdown",
   "metadata": {},
   "source": [
    "## Acceso, cambiar elementos, filas, columnas y más"
   ]
  },
  {
   "cell_type": "code",
   "execution_count": 40,
   "metadata": {},
   "outputs": [
    {
     "name": "stdout",
     "output_type": "stream",
     "text": [
      "[[1 2 3]\n",
      " [4 5 6]\n",
      " [7 8 9]]\n"
     ]
    }
   ],
   "source": [
    "b = np.array([[1,2,3],[4,5,6],[7,8,9]])\n",
    "print(b)"
   ]
  },
  {
   "cell_type": "code",
   "execution_count": 42,
   "metadata": {},
   "outputs": [
    {
     "data": {
      "text/plain": [
       "(3, 3)"
      ]
     },
     "execution_count": 42,
     "metadata": {},
     "output_type": "execute_result"
    }
   ],
   "source": [
    "b.shape"
   ]
  },
  {
   "cell_type": "markdown",
   "metadata": {},
   "source": [
    "### Obtener un elemento de la matríz [fila,columna] o vector [posición]"
   ]
  },
  {
   "cell_type": "code",
   "execution_count": 43,
   "metadata": {},
   "outputs": [
    {
     "data": {
      "text/plain": [
       "1"
      ]
     },
     "execution_count": 43,
     "metadata": {},
     "output_type": "execute_result"
    }
   ],
   "source": [
    "# Debemos tener en cuenta que el índice comienza en 0\n",
    "# Tambien tener en cuenta que podemos usar indice negativo siendo el último -1, penúltimo -2, etc...\n",
    "# por lo tanto:\n",
    "# Para obtener 1 haremos:\n",
    "b[0,0]"
   ]
  },
  {
   "cell_type": "code",
   "execution_count": 45,
   "metadata": {},
   "outputs": [
    {
     "data": {
      "text/plain": [
       "7"
      ]
     },
     "execution_count": 45,
     "metadata": {},
     "output_type": "execute_result"
    }
   ],
   "source": [
    "# Entonces para obtener el 7 haremos:\n",
    "b[2,0]"
   ]
  },
  {
   "cell_type": "code",
   "execution_count": 48,
   "metadata": {},
   "outputs": [
    {
     "name": "stdout",
     "output_type": "stream",
     "text": [
      "7\n",
      "7\n"
     ]
    }
   ],
   "source": [
    "# Con índices negativos para obtener el 7 haremos\n",
    "print(b[-1,0])\n",
    "# o tambien podemos usar:\n",
    "print(b[-1,-3])\n",
    "# en ambos casos obtenemos el 7\n",
    "# aunque para mejor entendimiento no es tan recomendable esta practica"
   ]
  },
  {
   "cell_type": "markdown",
   "metadata": {},
   "source": [
    "### Obtener una determinada fila o columna de la matriz"
   ]
  },
  {
   "cell_type": "code",
   "execution_count": 49,
   "metadata": {},
   "outputs": [
    {
     "data": {
      "text/plain": [
       "array([4, 5, 6])"
      ]
     },
     "execution_count": 49,
     "metadata": {},
     "output_type": "execute_result"
    }
   ],
   "source": [
    "# Para obtener una fila determinada de la matríz\n",
    "# en este caso será la fila 2\n",
    "b[1,:]"
   ]
  },
  {
   "cell_type": "code",
   "execution_count": 50,
   "metadata": {},
   "outputs": [
    {
     "data": {
      "text/plain": [
       "array([1, 4, 7])"
      ]
     },
     "execution_count": 50,
     "metadata": {},
     "output_type": "execute_result"
    }
   ],
   "source": [
    "# Para obtener una columna determinada de la matríz\n",
    "# en este caso será la columna 1\n",
    "b[:,0]"
   ]
  },
  {
   "cell_type": "code",
   "execution_count": 56,
   "metadata": {},
   "outputs": [
    {
     "data": {
      "text/plain": [
       "array([1, 3])"
      ]
     },
     "execution_count": 56,
     "metadata": {},
     "output_type": "execute_result"
    }
   ],
   "source": [
    "# Para recorrer cierta cantidad de elementos en una fila usaremos\n",
    "# indicecomienzo:indicefinal+1(Como es un rango siempre es 1 menos):paso(opcional)\n",
    "# Por ejemplo para tomar el 1 y el 3 de la fila 1 haremos\n",
    "b[0,0:3:2]"
   ]
  },
  {
   "cell_type": "code",
   "execution_count": 57,
   "metadata": {},
   "outputs": [
    {
     "data": {
      "text/plain": [
       "array([[1, 3],\n",
       "       [7, 9]])"
      ]
     },
     "execution_count": 57,
     "metadata": {},
     "output_type": "execute_result"
    }
   ],
   "source": [
    "# Para obtener las esquinas (1.1,1.3,3.1 y 3.3) de una matriz 3x3 haremos\n",
    "b[0:3:2,0:3:2] # siendo n el numero de filas y m el numero de columnas\n",
    "# esta formula para obtener las esquinas es [0:n:n-1,0:m:m-1]"
   ]
  },
  {
   "cell_type": "markdown",
   "metadata": {},
   "source": [
    "### Cambiar un elemento específico en una matríz"
   ]
  },
  {
   "cell_type": "code",
   "execution_count": 60,
   "metadata": {},
   "outputs": [
    {
     "name": "stdout",
     "output_type": "stream",
     "text": [
      "[[10  2  3]\n",
      " [ 4  5  6]\n",
      " [ 7  8  9]]\n"
     ]
    }
   ],
   "source": [
    "# Para cambiar un elemento específico \n",
    "# primero lo \"llamamos\" como lo haríamos\n",
    "# luego le realizamos la nueva asignación (todo en la misma linea)\n",
    "# de esta forma:\n",
    "b[0,0] = 10 # recordemos qu es 1, pero lo cambiamos a 10\n",
    "# Si mostramos b, veremos el cambio\n",
    "print(b)"
   ]
  },
  {
   "cell_type": "code",
   "execution_count": 61,
   "metadata": {},
   "outputs": [
    {
     "name": "stdout",
     "output_type": "stream",
     "text": [
      "[[10 20 30]\n",
      " [ 4  5  6]\n",
      " [ 7  8  9]]\n"
     ]
    }
   ],
   "source": [
    "# Para cambiar una serie de números usamos la misma lógica\n",
    "# \"Llamamos\" y luego asignamos\n",
    "# Por ejemplo para cambiar la fila 1 podemos realizar:\n",
    "b[0,:]=[10,20,30]\n",
    "print(b) # mostramos la matríz para ver el cambio"
   ]
  },
  {
   "cell_type": "code",
   "execution_count": 62,
   "metadata": {},
   "outputs": [
    {
     "name": "stdout",
     "output_type": "stream",
     "text": [
      "[[10  2 30]\n",
      " [ 4  2  6]\n",
      " [ 7  2  9]]\n"
     ]
    }
   ],
   "source": [
    "# Podemos hacer lo mismo asignando a todos un mismo valor\n",
    "# en este caso pondremos todos 2 en la columna 2\n",
    "b[:,1] = 2\n",
    "print(b)"
   ]
  },
  {
   "cell_type": "code",
   "execution_count": 64,
   "metadata": {},
   "outputs": [
    {
     "name": "stdout",
     "output_type": "stream",
     "text": [
      "[[[1 2]\n",
      "  [3 4]]\n",
      "\n",
      " [[5 6]\n",
      "  [7 8]]]\n"
     ]
    }
   ],
   "source": [
    "# Para los tensores de 3 dimensiones (incorporan profundidad o capas), ocurre igual\n",
    "# en caso de tener un tensor 3d, debemos agregar una coordenada más que indique la \"capa\"\n",
    "# entonces primero declararemos un tensor 3d y luego ejecutaremos algunas operaciones\n",
    "a3d = np.array([[[1,2],[3,4]],[[5,6],[7,8]]])\n",
    "print(a3d)"
   ]
  },
  {
   "cell_type": "code",
   "execution_count": 65,
   "metadata": {},
   "outputs": [
    {
     "data": {
      "text/plain": [
       "6"
      ]
     },
     "execution_count": 65,
     "metadata": {},
     "output_type": "execute_result"
    }
   ],
   "source": [
    "# Entonces para las operaciones de obtener o cambiar elementos especificos agregamos la coordenada de \"capa\"\n",
    "# Por ejemplo para obtener el número 6 haremos\n",
    "a3d[1,0,1]"
   ]
  },
  {
   "cell_type": "code",
   "execution_count": 74,
   "metadata": {},
   "outputs": [
    {
     "name": "stdout",
     "output_type": "stream",
     "text": [
      "[[[10 20]\n",
      "  [30 40]]\n",
      "\n",
      " [[10 14]\n",
      "  [ 7  8]]]\n"
     ]
    }
   ],
   "source": [
    "# Para cambiar elementos realizamos lo mismo, tambien agregando la nueva coordenada\n",
    "# Por ejemplo a la \"capa\" 1 le cambiaremos los valores a 10,20,30 y 40 respectivamente\n",
    "a3d[0,:,:]=[[10,20],[30,40]] # Cambiamos la capa completa\n",
    "print(a3d) # Mostramos la matríz para ver los cambios"
   ]
  },
  {
   "cell_type": "code",
   "execution_count": 77,
   "metadata": {},
   "outputs": [
    {
     "name": "stdout",
     "output_type": "stream",
     "text": [
      "[[[10 20]\n",
      "  [30 40]]\n",
      "\n",
      " [[10  6]\n",
      "  [14  8]]]\n"
     ]
    }
   ],
   "source": [
    "# Haremos un ejemplo cambiando la primera columna de la segunda capa\n",
    "# a [5,7] le asignaremos 10 y 14 respectivamente\n",
    "a3d[1,:,0] = [10,14]\n",
    "print(a3d)"
   ]
  },
  {
   "cell_type": "markdown",
   "metadata": {},
   "source": [
    "#### Entonces sabemos que para recorrer una matríz 3D el orden es [capa,fila,columna]"
   ]
  },
  {
   "cell_type": "markdown",
   "metadata": {},
   "source": [
    "## Iniciar Matrices Específicas"
   ]
  },
  {
   "cell_type": "code",
   "execution_count": 88,
   "metadata": {},
   "outputs": [
    {
     "name": "stdout",
     "output_type": "stream",
     "text": [
      "[0. 0. 0.] vector \n",
      "\n",
      "[[0. 0. 0.]\n",
      " [0. 0. 0.]\n",
      " [0. 0. 0.]] matríz \n",
      "\n",
      "[[[0. 0. 0.]\n",
      "  [0. 0. 0.]\n",
      "  [0. 0. 0.]]\n",
      "\n",
      " [[0. 0. 0.]\n",
      "  [0. 0. 0.]\n",
      "  [0. 0. 0.]]\n",
      "\n",
      " [[0. 0. 0.]\n",
      "  [0. 0. 0.]\n",
      "  [0. 0. 0.]]] tensor 3d\n"
     ]
    }
   ],
   "source": [
    "# Matríz con todos 0s - funcion np.zeros(forma)\n",
    "print(np.zeros(3),\"vector \\n\") # vector longitud = 3\n",
    "print(np.zeros((3,3)),\"matríz \\n\") # Matríz nm = 3x3\n",
    "print(np.zeros((3,3,3)),\"tensor 3d\") # Tensor 3d = 3x3x3"
   ]
  },
  {
   "cell_type": "code",
   "execution_count": 89,
   "metadata": {},
   "outputs": [
    {
     "name": "stdout",
     "output_type": "stream",
     "text": [
      "[1. 1.] vector \n",
      "\n",
      "[[0. 0.]\n",
      " [0. 0.]] matríz \n",
      "\n",
      "[[[0. 0.]\n",
      "  [0. 0.]]\n",
      "\n",
      " [[0. 0.]\n",
      "  [0. 0.]]] tensor 3d\n"
     ]
    }
   ],
   "source": [
    "# Matríz con todos 1s - funcion np.ones(forma)\n",
    "print(np.ones(2),\"vector \\n\") # vector longitud = 2\n",
    "print(np.zeros((2,2)),\"matríz \\n\") # Matríz nm = 2x2\n",
    "print(np.zeros((2,2,2)),\"tensor 3d\") # Tensor 3d = 2x2x2"
   ]
  },
  {
   "cell_type": "code",
   "execution_count": 90,
   "metadata": {},
   "outputs": [
    {
     "name": "stdout",
     "output_type": "stream",
     "text": [
      "[7 7 7 7] vector \n",
      "\n",
      "[[7 7 7 7]\n",
      " [7 7 7 7]\n",
      " [7 7 7 7]\n",
      " [7 7 7 7]] matríz \n",
      "\n",
      "[[[7 7 7 7]\n",
      "  [7 7 7 7]]\n",
      "\n",
      " [[7 7 7 7]\n",
      "  [7 7 7 7]]\n",
      "\n",
      " [[7 7 7 7]\n",
      "  [7 7 7 7]]] tensor 3d\n"
     ]
    }
   ],
   "source": [
    "# Matríz con un número distinto de 0 y 1 - funcion np.full(forma,número)\n",
    "print(np.full(4,7),\"vector \\n\") # 4 columnas\n",
    "print(np.full((4,4),7),\"matríz \\n\") # 4 fil, 4 col\n",
    "print(np.full((3,2,4),7),\"tensor 3d\") # 3 capas, 2 filas, 4 col"
   ]
  },
  {
   "cell_type": "code",
   "execution_count": 91,
   "metadata": {},
   "outputs": [
    {
     "data": {
      "text/plain": [
       "array([[[12, 12],\n",
       "        [12, 12]],\n",
       "\n",
       "       [[12, 12],\n",
       "        [12, 12]]])"
      ]
     },
     "execution_count": 91,
     "metadata": {},
     "output_type": "execute_result"
    }
   ],
   "source": [
    "# Podemos utilizar la forma de otra matríz en el argumento forma\n",
    "# por ejemplo esta vez usaremos la forma de la matríz a3d anteriormente utilizada\n",
    "np.full(a3d.shape,12)"
   ]
  },
  {
   "cell_type": "code",
   "execution_count": 92,
   "metadata": {},
   "outputs": [
    {
     "data": {
      "text/plain": [
       "array([[[12, 12],\n",
       "        [12, 12]],\n",
       "\n",
       "       [[12, 12],\n",
       "        [12, 12]]])"
      ]
     },
     "execution_count": 92,
     "metadata": {},
     "output_type": "execute_result"
    }
   ],
   "source": [
    "# lo mismo podemos hacer utilizando otra funcion la cual es np.full_like(matriz_a_copiar,número)\n",
    "# Realizaremos el mismo ejemplo pero con esta función\n",
    "np.full_like(a3d,12)"
   ]
  },
  {
   "cell_type": "code",
   "execution_count": 93,
   "metadata": {},
   "outputs": [
    {
     "data": {
      "text/plain": [
       "array([[0.37989992, 0.65348895],\n",
       "       [0.17026242, 0.98247786],\n",
       "       [0.1757197 , 0.27257117],\n",
       "       [0.61629988, 0.07327805]])"
      ]
     },
     "execution_count": 93,
     "metadata": {},
     "output_type": "execute_result"
    }
   ],
   "source": [
    "# Matriz de numeros decimales aleatorios entre 0 y 1 - función np.random.rand(forma)\n",
    "np.random.rand(4,2)"
   ]
  },
  {
   "cell_type": "code",
   "execution_count": 95,
   "metadata": {},
   "outputs": [
    {
     "data": {
      "text/plain": [
       "array([[[0.35433151, 0.23892235],\n",
       "        [0.35979473, 0.18303805]],\n",
       "\n",
       "       [[0.22801053, 0.38085872],\n",
       "        [0.37303217, 0.04735189]]])"
      ]
     },
     "execution_count": 95,
     "metadata": {},
     "output_type": "execute_result"
    }
   ],
   "source": [
    "# Para realizar la misma matríz aleatoria pero pasarle la forma de otra usamos la función\n",
    "# np.random.random_sample(forma) , usaremos la forma de a3d para el ejemplo\n",
    "np.random.random_sample(a3d.shape)"
   ]
  },
  {
   "cell_type": "code",
   "execution_count": 96,
   "metadata": {},
   "outputs": [
    {
     "data": {
      "text/plain": [
       "1"
      ]
     },
     "execution_count": 96,
     "metadata": {},
     "output_type": "execute_result"
    }
   ],
   "source": [
    "# Matríz aleatoría de enteros - función np.random.randint(inicio[default = 0],final+1,size[default = 1])\n",
    "np.random.randint(4) # Escalar aleatorio entre 0 y 4"
   ]
  },
  {
   "cell_type": "code",
   "execution_count": 97,
   "metadata": {},
   "outputs": [
    {
     "data": {
      "text/plain": [
       "11"
      ]
     },
     "execution_count": 97,
     "metadata": {},
     "output_type": "execute_result"
    }
   ],
   "source": [
    "np.random.randint(5,13) # Escalar aleatorio entre 5 y 13"
   ]
  },
  {
   "cell_type": "code",
   "execution_count": 98,
   "metadata": {},
   "outputs": [
    {
     "data": {
      "text/plain": [
       "array([[0, 5, 4],\n",
       "       [6, 6, 5],\n",
       "       [6, 2, 3]])"
      ]
     },
     "execution_count": 98,
     "metadata": {},
     "output_type": "execute_result"
    }
   ],
   "source": [
    "np.random.randint(0,10,size = (3,3)) # Matríz 3x3 de aleatorios entre 0 y 10"
   ]
  },
  {
   "cell_type": "code",
   "execution_count": 102,
   "metadata": {},
   "outputs": [
    {
     "data": {
      "text/plain": [
       "array([[1, 0, 0],\n",
       "       [1, 0, 1],\n",
       "       [0, 1, 0]])"
      ]
     },
     "execution_count": 102,
     "metadata": {},
     "output_type": "execute_result"
    }
   ],
   "source": [
    "np.random.randint(2,size = (3,3)) # Matríz 3x3 booleana aleatoria"
   ]
  },
  {
   "cell_type": "code",
   "execution_count": 108,
   "metadata": {},
   "outputs": [
    {
     "data": {
      "text/plain": [
       "array([[[-1,  2,  1],\n",
       "        [-2,  1,  0],\n",
       "        [ 3, -2,  0]],\n",
       "\n",
       "       [[ 1, -2,  0],\n",
       "        [-2, -3,  1],\n",
       "        [ 2, -1,  0]],\n",
       "\n",
       "       [[ 0,  1, -1],\n",
       "        [ 2, -3,  2],\n",
       "        [-3, -2, -2]]])"
      ]
     },
     "execution_count": 108,
     "metadata": {},
     "output_type": "execute_result"
    }
   ],
   "source": [
    "# Estas pueden tomar como parametro números negativos, por ejemplo\n",
    "np.random.randint(-3,4,size = (3,3,3)) # Matríz 3x3x3 de num aleatorios entre -3 y 3"
   ]
  },
  {
   "cell_type": "code",
   "execution_count": 110,
   "metadata": {},
   "outputs": [
    {
     "data": {
      "text/plain": [
       "array([[1., 0., 0.],\n",
       "       [0., 1., 0.],\n",
       "       [0., 0., 1.]])"
      ]
     },
     "execution_count": 110,
     "metadata": {},
     "output_type": "execute_result"
    }
   ],
   "source": [
    "# Matriz identidad - función np.identity(tamaño)\n",
    "# Por defecto las matrices identidad son cuadradas por lo que el tamaño ingresado = t\n",
    "# Dará como resultado una matriz donde filas = t y columnas = t y tiene 1s en la diagonal principal, por ejemplo\n",
    "np.identity(3)"
   ]
  },
  {
   "cell_type": "code",
   "execution_count": 118,
   "metadata": {},
   "outputs": [
    {
     "name": "stdout",
     "output_type": "stream",
     "text": [
      "[1 2 3]\n",
      "[[4 5 6]]\n",
      "[1 1 1 1 1 2 2 2 2 2 3 3 3 3 3]\n",
      "[[4 5 6]\n",
      " [4 5 6]\n",
      " [4 5 6]]\n"
     ]
    }
   ],
   "source": [
    "# Para repetir matrices n veces - función np.repeat(matríz,repeticiones,eje de repeticiones[default = 1 = x;0 = y])\n",
    "# Se le pasa como argumento una matríz y la cantidad de repeticiones requeridas\n",
    "arr = np.array([1,2,3])\n",
    "rep = np.repeat(arr,5) # Generamos 5 1s, 5 2s, ...\n",
    "# Si queremos que se repitan en el eje \"y\" debemos crear una matriz, no un vector, y aclarar en el repeat el eje y\n",
    "arr2 = np.array([[4,5,6]])\n",
    "rep2 = np.repeat(arr2,3,axis = 0)\n",
    "print(arr)\n",
    "print(arr2)\n",
    "print(rep)\n",
    "print(rep2)"
   ]
  },
  {
   "cell_type": "code",
   "execution_count": 156,
   "metadata": {},
   "outputs": [
    {
     "name": "stdout",
     "output_type": "stream",
     "text": [
      "[[1 0 0]\n",
      " [0 1 0]\n",
      " [0 0 1]]\n",
      "[[1 3 1]\n",
      " [0 3 1]\n",
      " [0 0 1]]\n",
      "[[2 0 0]\n",
      " [2 1 0]\n",
      " [2 1 2]]\n"
     ]
    }
   ],
   "source": [
    "# Para generar una matríz diagonal - función np.diag(tamaño)\n",
    "# daremos un ejemplo\n",
    "diag = np.diag((1,1,1)) # Construimos la matríz poniendo los elementos que van en la diagonal\n",
    "print(diag)\n",
    "\n",
    "# Para generar una matríz de elementos en el triangulo superior de la matríz\n",
    "print(np.triu((1,3,1))) # Indicamos los números que queremos en las columnas que formen el triang superior\n",
    "\n",
    "print(np.tril((2,1,2))) # Nuevamente indicamos los números que queremos en las col que forman el triang inferior"
   ]
  },
  {
   "cell_type": "code",
   "execution_count": 157,
   "metadata": {},
   "outputs": [
    {
     "name": "stdout",
     "output_type": "stream",
     "text": [
      "[ 2  4  6  8 10 12 14 16 18 20 22 24 26 28 30 32 34 36 38 40 42 44 46 48\n",
      " 50]\n"
     ]
    }
   ],
   "source": [
    "# Para generar una matríz o vector con un rango entre números - np.arange(desde,hasta,paso)\n",
    "pares = np.arange(2,51,2) # Generamos a partir del 2 hasta el 50 con paso 2 (pares hasta el 50)\n",
    "print(pares)"
   ]
  },
  {
   "cell_type": "code",
   "execution_count": 170,
   "metadata": {},
   "outputs": [
    {
     "name": "stdout",
     "output_type": "stream",
     "text": [
      "['hola,' 'como' 'estás?']\n"
     ]
    }
   ],
   "source": [
    "# Para generar una matríz a partir de una cadena de caracteres - np.char.array(cadena)\n",
    "saludo = np.char.array(['hola,','como','estás?'])\n",
    "print(saludo)"
   ]
  },
  {
   "cell_type": "code",
   "execution_count": null,
   "metadata": {},
   "outputs": [],
   "source": [
    "# Existen más iniciaciones de matrices más específicas\n",
    "# En caso de interesarte, dejaré un link en la página principal del repo"
   ]
  },
  {
   "cell_type": "markdown",
   "metadata": {},
   "source": [
    "### Problema 1 : Generar la matríz [[1,1,1,1,1],[1,0,0,0,1],[1,0,9,0,1],[1,0,0,0,1],[1,1,1,1,1]]"
   ]
  },
  {
   "cell_type": "code",
   "execution_count": 119,
   "metadata": {},
   "outputs": [
    {
     "name": "stdout",
     "output_type": "stream",
     "text": [
      "[[1 1 1 1 1]\n",
      " [1 0 0 0 1]\n",
      " [1 0 9 0 1]\n",
      " [1 0 0 0 1]\n",
      " [1 1 1 1 1]]\n"
     ]
    }
   ],
   "source": [
    "# Imprimimos la matríz a generar\n",
    "problema = np.array([[1,1,1,1,1],[1,0,0,0,1],[1,0,9,0,1],[1,0,0,0,1],[1,1,1,1,1]])\n",
    "print(problema)"
   ]
  },
  {
   "cell_type": "code",
   "execution_count": 121,
   "metadata": {},
   "outputs": [
    {
     "name": "stdout",
     "output_type": "stream",
     "text": [
      "[[0 0 0 0 0]\n",
      " [0 0 0 0 0]\n",
      " [0 0 0 0 0]\n",
      " [0 0 0 0 0]\n",
      " [0 0 0 0 0]]\n"
     ]
    }
   ],
   "source": [
    "# Como vemos esta matríz es de tamaño 5 y es cuadrada ya que cant filas = cant columnas\n",
    "# Para comenzar crearemos una matríz de 0s de tamaño (5,5)\n",
    "rta = np.zeros((5,5),dtype = 'int16')\n",
    "print(rta) # Empezamos de esta forma"
   ]
  },
  {
   "cell_type": "code",
   "execution_count": 122,
   "metadata": {},
   "outputs": [
    {
     "name": "stdout",
     "output_type": "stream",
     "text": [
      "[[1 1 1 1 1]\n",
      " [0 0 0 0 0]\n",
      " [0 0 0 0 0]\n",
      " [0 0 0 0 0]\n",
      " [1 1 1 1 1]]\n"
     ]
    }
   ],
   "source": [
    "# Luego haremos la primer y última fila de 1s\n",
    "rta[0:5:4,:] = 1\n",
    "print(rta) # Nos quedaría de esta forma"
   ]
  },
  {
   "cell_type": "code",
   "execution_count": 123,
   "metadata": {},
   "outputs": [
    {
     "name": "stdout",
     "output_type": "stream",
     "text": [
      "[[1 1 1 1 1]\n",
      " [1 0 0 0 1]\n",
      " [1 0 0 0 1]\n",
      " [1 0 0 0 1]\n",
      " [1 1 1 1 1]]\n"
     ]
    }
   ],
   "source": [
    "# Ahora convertiremos en 1s la primer y ultima columna con el proceso \"inverso\"\n",
    "rta[:,0:5:4] = 1\n",
    "print(rta) # Ya nos acercamos al final"
   ]
  },
  {
   "cell_type": "code",
   "execution_count": 124,
   "metadata": {},
   "outputs": [
    {
     "name": "stdout",
     "output_type": "stream",
     "text": [
      "[[1 1 1 1 1]\n",
      " [1 0 0 0 1]\n",
      " [1 0 9 0 1]\n",
      " [1 0 0 0 1]\n",
      " [1 1 1 1 1]]\n"
     ]
    }
   ],
   "source": [
    "# Por último debemos cambiar el centro por 9, lo haremos de esta forma\n",
    "rta[2,2] = 9\n",
    "print(rta) # Esta es nuestra respuesta final"
   ]
  },
  {
   "cell_type": "markdown",
   "metadata": {},
   "source": [
    "#### Otra forma de hacerlo"
   ]
  },
  {
   "cell_type": "code",
   "execution_count": 125,
   "metadata": {},
   "outputs": [
    {
     "name": "stdout",
     "output_type": "stream",
     "text": [
      "[[1. 1. 1. 1. 1.]\n",
      " [1. 1. 1. 1. 1.]\n",
      " [1. 1. 1. 1. 1.]\n",
      " [1. 1. 1. 1. 1.]\n",
      " [1. 1. 1. 1. 1.]]\n",
      "[[0. 0. 0.]\n",
      " [0. 0. 0.]\n",
      " [0. 0. 0.]]\n",
      "[[0. 0. 0.]\n",
      " [0. 9. 0.]\n",
      " [0. 0. 0.]]\n",
      "[[1. 1. 1. 1. 1.]\n",
      " [1. 0. 0. 0. 1.]\n",
      " [1. 0. 9. 0. 1.]\n",
      " [1. 0. 0. 0. 1.]\n",
      " [1. 1. 1. 1. 1.]]\n"
     ]
    }
   ],
   "source": [
    "# Otra forma es 1 - crear una matríz de 1s de tamaño 5x5\n",
    "# Luego 2 - creamos otra matríz de 0s de tamaño 3x3\n",
    "# A la segunda matríz le 3 - cambiamos el centro por 9\n",
    "# Por último 4 - asignamos a los lugares correspondientes de la matríz 5x5, la matríz 3x3\n",
    "rta = np.ones((5,5)) # 1\n",
    "print(rta)\n",
    "cambio = np.zeros((3,3)) # 2\n",
    "print(cambio)\n",
    "cambio[1,1] = 9 # 3\n",
    "print(cambio)\n",
    "rta[1:4,1:4] = cambio # 4\n",
    "print(rta) # Así quedaría terminada nuestra matríz\n"
   ]
  },
  {
   "cell_type": "markdown",
   "metadata": {},
   "source": [
    "### Ten cuidado al copiar Matrices"
   ]
  },
  {
   "cell_type": "code",
   "execution_count": 3,
   "metadata": {},
   "outputs": [
    {
     "name": "stdout",
     "output_type": "stream",
     "text": [
      "[10  2  3]\n",
      "[10  2  3]\n"
     ]
    }
   ],
   "source": [
    "# Si creamos una matríz a cualquiera, y queremos copiar la misma matríz en una variable x, funcionará\n",
    "# El problema está que si editamos cualquier elemento de x tambien se cambiará en a, de la siguiente forma\n",
    "a = np.array([1,2,3])\n",
    "x = a\n",
    "x[0] = 10 # Cambiamos el 1 de la matríz x por 10\n",
    "# ¿Qué crees que pasará cuando imprimamos a y x?\n",
    "print(a)\n",
    "print(x)\n",
    "# Adivinaste, en a tambien se cambió el valor\n",
    "# Esto ocurre ya que tu le asignaste que uno será igual a la otra con x = a, entonces\n",
    "# Para cualquier cambio que ocurra en alguna de las dos, se hará tambien en la otra. (Son la misma matríz)"
   ]
  },
  {
   "cell_type": "code",
   "execution_count": 4,
   "metadata": {},
   "outputs": [
    {
     "name": "stdout",
     "output_type": "stream",
     "text": [
      "[1 2 3]\n",
      "[10  2  3]\n"
     ]
    }
   ],
   "source": [
    "# Si queremos hacer una copia sin que x sea la misma matríz que a, es decir\n",
    "# si editamos x no editaremos a y viceversa\n",
    "# usaremos la función .copy(), por ejemplo\n",
    "a = np.array([1,2,3]) # Creamos una matríz normalmente\n",
    "x = a.copy() # Creamos una copia\n",
    "x[0] = 10 # Cambiamos lo que queramos de x\n",
    "#Imprimimos por pantalla para ver el resultado de ambas\n",
    "print(a)\n",
    "print(x)"
   ]
  },
  {
   "cell_type": "markdown",
   "metadata": {},
   "source": [
    "## Matemáticas con Numpy"
   ]
  },
  {
   "cell_type": "markdown",
   "metadata": {},
   "source": [
    "### Operaciones Básicas"
   ]
  },
  {
   "cell_type": "code",
   "execution_count": 5,
   "metadata": {},
   "outputs": [],
   "source": [
    "# Uno de los usos más grandes de Numpy es en las matemáticas\n",
    "# En esta sección introduciremos algunos conceptos"
   ]
  },
  {
   "cell_type": "code",
   "execution_count": 70,
   "metadata": {},
   "outputs": [
    {
     "name": "stdout",
     "output_type": "stream",
     "text": [
      "[1 2 3 4]\n",
      "[3 4 5 6]\n"
     ]
    }
   ],
   "source": [
    "# Podemos operar entre matrices y escalares, para ello...\n",
    "a = np.array([1,2,3,4])\n",
    "print(a)\n",
    "a += 2 # Por cada elemento le sumamos 2\n",
    "print(a)"
   ]
  },
  {
   "cell_type": "code",
   "execution_count": 71,
   "metadata": {},
   "outputs": [
    {
     "name": "stdout",
     "output_type": "stream",
     "text": [
      "[0 1 2 3]\n"
     ]
    }
   ],
   "source": [
    "# De la misma forma podemos restar, a continuación por cada elemento restaremos 3\n",
    "a -= 3\n",
    "print(a)"
   ]
  },
  {
   "cell_type": "code",
   "execution_count": 72,
   "metadata": {},
   "outputs": [
    {
     "name": "stdout",
     "output_type": "stream",
     "text": [
      "[ 0  5 10 15]\n"
     ]
    }
   ],
   "source": [
    "# A continuación veremos que tambien se puede multiplicar a cada elemento por un escalar\n",
    "# En el ejemplo multiplicaremos cada elemento por 5\n",
    "a = a*5\n",
    "print(a)\n",
    "# Como vemos en estos casos estamos modificando la matríz\n",
    "# En caso de querer practicar las operaciones sin modificarlas podemos hacer\n",
    "# print(a*2) o print(a-4), etc etc"
   ]
  },
  {
   "cell_type": "code",
   "execution_count": 73,
   "metadata": {},
   "outputs": [
    {
     "name": "stdout",
     "output_type": "stream",
     "text": [
      "[0.  2.5 5.  7.5]\n"
     ]
    }
   ],
   "source": [
    "# De la misma forma podemos dividir cada elemento entre un escalar\n",
    "# En este ejemplo dividiremos por 2\n",
    "a = a/2\n",
    "print(a)\n",
    "# Esto nos devolverá una matríz de numeros decimales ya que la división no es exacta"
   ]
  },
  {
   "cell_type": "code",
   "execution_count": 74,
   "metadata": {},
   "outputs": [
    {
     "name": "stdout",
     "output_type": "stream",
     "text": [
      "[0.  2.5 5.  7.5]\n",
      "[10.   2.5  0.   2.5]\n",
      "[10.  5.  5. 10.]\n"
     ]
    }
   ],
   "source": [
    "# Tambien podremos sumar matrices siempre que estas tengan el mismo tamaño\n",
    "# Por ejemplo al actual valor en a le sumaremos una nueva matríz b\n",
    "b = np.array([10,2.5,0,2.5])\n",
    "c = a+b # Creamos una nueva matríz que guarde el valor de la suma entre a y b\n",
    "print(a)\n",
    "print(b)\n",
    "print(c)"
   ]
  },
  {
   "cell_type": "code",
   "execution_count": 79,
   "metadata": {},
   "outputs": [
    {
     "name": "stdout",
     "output_type": "stream",
     "text": [
      "[100.  25.  25. 100.]\n",
      "[100.  25.  25. 100.]\n"
     ]
    }
   ],
   "source": [
    "# Otra operación que podremos realizar es elevar cada elemento de la matríz por un número\n",
    "# en este ejemplo elevaremos c al cuadrado\n",
    "print (c**2)\n",
    "# Tambien existe una función para elevar cada elemento a un número, la misma es np.exp\n",
    "print(np.power(c,2)) # Tambien podremos elevar una matríz por otra"
   ]
  },
  {
   "cell_type": "code",
   "execution_count": 98,
   "metadata": {},
   "outputs": [
    {
     "name": "stdout",
     "output_type": "stream",
     "text": [
      "[[2 4 6 8]]\n",
      "[[2 4 6 8]\n",
      " [2 4 6 8]\n",
      " [2 4 6 8]]\n",
      "20\n",
      "[ 6 12 18 24]\n",
      "384\n",
      "[  8  64 216 512]\n"
     ]
    }
   ],
   "source": [
    "# Podemos calcular la sumatoria y la multiplicación de los elementos del vector con la funcion\n",
    "# Los mismos se pueden calcular como la sumatoria por fila (axis = 1) o sumatoria por columnas (axis = 0)\n",
    "# Para ello utilizaremos las siguientes funciones\n",
    "a = np.array([[2,4,6,8]])\n",
    "a2d = a.repeat(3,axis = 0)\n",
    "print(a)\n",
    "print(a2d)\n",
    "print(a.sum())\n",
    "print(a2d.sum(axis = 0))\n",
    "print(a.prod())\n",
    "print(a2d.prod(axis = 0))"
   ]
  },
  {
   "cell_type": "markdown",
   "metadata": {},
   "source": [
    "### Funciones Trigonometricas"
   ]
  },
  {
   "cell_type": "code",
   "execution_count": 61,
   "metadata": {},
   "outputs": [
    {
     "name": "stdout",
     "output_type": "stream",
     "text": [
      "[ 0.84147098  0.90929743  0.14112001 -0.7568025 ]\n",
      "[ 0.54030231 -0.41614684 -0.9899925  -0.65364362]\n",
      "[ 1.55740772 -2.18503986 -0.14254654  1.15782128]\n",
      "[ 57.29577951 114.59155903 171.88733854 229.18311805]\n"
     ]
    }
   ],
   "source": [
    "# Tambien por ejemplo podemos realizar el seno, el coseno y la tangente de cada elemento de una matríz\n",
    "# acá vemos un ejemplo\n",
    "rad = np.array([1,2,3,4])\n",
    "print(np.sin(rad))\n",
    "print(np.cos(rad))\n",
    "print(np.tan(rad))\n",
    "# Tanto seno, coseno y tang de una matríz se pueden realizar con respectivas funciones\n",
    "# Las funciones anteriores utilizan como unidad los radianes\n",
    "# Para convertirlo de radianes a grados usaremos la función np.degrees(matríz/vector/etc)\n",
    "print(np.degrees(rad)) # Nos mostrára cuantos grados son los elementos que le pasemos"
   ]
  },
  {
   "cell_type": "code",
   "execution_count": 62,
   "metadata": {},
   "outputs": [
    {
     "data": {
      "text/plain": [
       "23.323807579381203"
      ]
     },
     "execution_count": 62,
     "metadata": {},
     "output_type": "execute_result"
    }
   ],
   "source": [
    "# Tambien conociendo los dos catetos de un triángulo rectángulo, podemos calcular la hipotenusa\n",
    "# Esto lo haremos con la función np.hypot(cat1,cat2), por ejemplo\n",
    "cat = np.array([20,12]) \n",
    "# Suponiendo que tenemos 20 y 12 mts de cateto, calcularemos la hipotenusa\n",
    "np.hypot(cat[0],cat[1])"
   ]
  },
  {
   "cell_type": "code",
   "execution_count": 67,
   "metadata": {},
   "outputs": [
    {
     "name": "stdout",
     "output_type": "stream",
     "text": [
      "29.591845793950736\n"
     ]
    }
   ],
   "source": [
    "# Suponiendo que conocemos 2 de las 3 componentes de un ángulo\n",
    "# Podremos encontrar el ángulo conformado entre ellos\n",
    "# Para ello usaremos arcsen,arccos o arctan según que partes del triángulo tengamos\n",
    "# Supongamos que tenemos la hipotenusa y el cateto adyacente, obtendremos alfa de la sig forma:\n",
    "# Recuerden la \"Regla\" SOH - CAH - TOA que indica para los datos que tengamos que función utilizar\n",
    "# En nuestro caso tenemos adyacente e hipotenusa, por ello usaremos el Coseno, entonces\n",
    "datos = np.array([20,23]) # Declaramos adyac e hipotenusa respectivamente\n",
    "alfa = np.arccos(datos[0]/datos[1])\n",
    "print(np.degrees(alfa)) # Imprimimos alfa en grados"
   ]
  },
  {
   "cell_type": "markdown",
   "metadata": {},
   "source": [
    "### Redondeo, Truncamiento y otras"
   ]
  },
  {
   "cell_type": "code",
   "execution_count": 112,
   "metadata": {},
   "outputs": [
    {
     "name": "stdout",
     "output_type": "stream",
     "text": [
      "[1. 3. 5.]\n",
      "[1.39 3.67 5.79]\n",
      "[1.4 3.7 5.8]\n",
      "[1. 3. 5.]\n",
      "[2. 4. 6.]\n",
      "[1. 3. 5.]\n"
     ]
    }
   ],
   "source": [
    "# Para realizar truncamientos, redondeos y demas utilizaremos las funciones\n",
    "a = np.array([1.394,3.666,5.788])\n",
    "print(np.trunc(a)) # Devuelve solo el número entero\n",
    "print(np.around(a,2)) # Devuelve los números redondeados a la cifra que indiquemos\n",
    "print(np.round(a,1))\n",
    "print(np.floor(a)) # Devuelve el número entero menor más cercano\n",
    "print(np.ceil(a)) # Devuelve el número entero mayor más cercano\n",
    "print(np.fix(a)) # Devuelve el número entero más cercano (depende si los decimales son mayores o menores a 0.5)"
   ]
  },
  {
   "cell_type": "code",
   "execution_count": 117,
   "metadata": {},
   "outputs": [
    {
     "name": "stdout",
     "output_type": "stream",
     "text": [
      "4\n",
      "72\n"
     ]
    }
   ],
   "source": [
    "# Para encontrar el mcm y dcm de dos números usaremos las funciones\n",
    "# DCM - función np.gcd(x1,x2)\n",
    "# mcm - función np.lcm(x1,x2)\n",
    "print(np.gcd(8,20)) # Máximo común divisor entre 8 y 20 = 4\n",
    "print(np.lcm(8,18)) # Mínimo comun múltiplo entre 8 y 18 = 72"
   ]
  },
  {
   "cell_type": "code",
   "execution_count": 22,
   "metadata": {},
   "outputs": [],
   "source": [
    "# Hay más funciones, no las trabajaremos en esta introducción\n",
    "# si te interesan te las dejo en la pagina principal del repo"
   ]
  },
  {
   "cell_type": "markdown",
   "metadata": {},
   "source": [
    "## Álgebra lineal con Numpy"
   ]
  },
  {
   "cell_type": "code",
   "execution_count": 184,
   "metadata": {},
   "outputs": [
    {
     "name": "stdout",
     "output_type": "stream",
     "text": [
      "[1 2 3 4]\n",
      "[5 6 7 8]\n",
      "70\n",
      "[[1 2]\n",
      " [3 4]]\n",
      "[[5 6]\n",
      " [7 8]]\n",
      "[[19 22]\n",
      " [43 50]] \n",
      "\n",
      "[[17 23]\n",
      " [39 53]]\n",
      "[[ 5  6  7  8]\n",
      " [10 12 14 16]\n",
      " [15 18 21 24]\n",
      " [20 24 28 32]]\n"
     ]
    }
   ],
   "source": [
    "# Para realizar el producto punto entre dos vectores- función np.vdot(vect1,vect2)\n",
    "a = np.array([1,2,3,4])\n",
    "b = np.array([5,6,7,8])\n",
    "print(a)\n",
    "print(b)\n",
    "print(np.vdot(a,b)) # realiza (a[0]*b[0])+(a[1]*b[1])+....(a[n]*b[n])\n",
    "\n",
    "# Para realizar el producto punto entre dos matrices - función np.dot(matríz1,matríz2)\n",
    "amat = np.array([[1,2],[3,4]])\n",
    "bmat = np.array([[5,6],[7,8]])\n",
    "print(amat)\n",
    "print(bmat)\n",
    "print(np.dot(amat,bmat),\"\\n\") # Realiza para c[1,1] = a[1,1] * b[1,1] + a[1,2] * b[2,1], igual para el resto\n",
    "\n",
    "# Para realizar el producto escalar entre dos matrices - función np.inner(matríz1,matríz2)\n",
    "print(np.inner(amat,bmat))\n",
    "\n",
    "# Para realizar el producto escalar entre dos vectores - función np.outer(vect1,vect2)\n",
    "print(np.outer(a,b)) \n",
    "# Realiza a[0]*b, a[1]*b, a[2]*b, a[3]*b .. Forma una matriz con los elementos de a como escalares y las filas de b"
   ]
  },
  {
   "cell_type": "code",
   "execution_count": 35,
   "metadata": {},
   "outputs": [
    {
     "name": "stdout",
     "output_type": "stream",
     "text": [
      "[[1 0 0]\n",
      " [0 1 0]\n",
      " [0 0 1]]\n",
      "[[5 5 5]\n",
      " [5 5 5]\n",
      " [5 5 5]]\n",
      "[[5 5 5]\n",
      " [5 5 5]\n",
      " [5 5 5]]\n"
     ]
    }
   ],
   "source": [
    "# Recordemos que para multiplicar matrices, debemos de tener una matríz a n.m y b n.m\n",
    "# de modo tal que la cant de col de a sea igual a la cant de filas de b \n",
    "# y que las filas de a y las columnas de b determinarán su tamaño, para ello\n",
    "# usaremos la función np.matmul(matríz1,matríz2)\n",
    "a = np.identity(3,dtype=\"int16\") # Matriz a = identidad 3x3(1s en la diagonal principal)\n",
    "print(a)\n",
    "\n",
    "b = np.full((3,3),5) # Matríz b = Matríz 3x3 completa con 5\n",
    "print (b)\n",
    "\n",
    "print(np.matmul(a,b)) # Producto entre la matríz a y la matríz b, nueva matríz 3x3\n",
    "# Vease el producto entre matrices en https://es.wikipedia.org/wiki/Multiplicaci%C3%B3n_de_matrices"
   ]
  },
  {
   "cell_type": "code",
   "execution_count": 37,
   "metadata": {},
   "outputs": [
    {
     "name": "stdout",
     "output_type": "stream",
     "text": [
      "[[1 1]\n",
      " [2 1]]\n",
      "-1.0\n"
     ]
    }
   ],
   "source": [
    "# Para buscar el Determinante de una matríz debemos de recordar que la matríz debe de ser cuadrada\n",
    "# El Determinante indicará el número de soluciones de los respectivos sistemas de ecuaciones lineales\n",
    "a = np.array([[1,1],[2,1]])\n",
    "print(a)\n",
    "print(np.linalg.det(a)) # Determinante de a que es lo mismo que\n",
    "# la diferencia entre la mult de los elementos de la diag principal y la mult de los elementos de la diag secundaria\n",
    "# queda conformada una x en la matriz, por ejemplo para este caso es [1*1]-[1*2] que nos dará como resultado -1"
   ]
  },
  {
   "cell_type": "code",
   "execution_count": 189,
   "metadata": {},
   "outputs": [],
   "source": [
    "# Existe más información y más funciones aplicables al álgebra lineal\n",
    "# Para saber más puedes visitar la página que dejaré en el repo"
   ]
  },
  {
   "cell_type": "markdown",
   "metadata": {},
   "source": [
    "### Estadísticas con Numpy"
   ]
  },
  {
   "cell_type": "code",
   "execution_count": 195,
   "metadata": {},
   "outputs": [
    {
     "name": "stdout",
     "output_type": "stream",
     "text": [
      "[[1 2 3]\n",
      " [4 5 6]\n",
      " [7 8 9]]\n",
      "1\n",
      "9\n",
      "[1 2 3]\n",
      "[1 4 7]\n",
      "[7 8 9]\n",
      "[3 6 9]\n"
     ]
    }
   ],
   "source": [
    "# Podemos obtener el mínimo de una matríz - Función np.min(matríz)\n",
    "estadisticas = np.array ([[1,2,3],[4,5,6],[7,8,9]])\n",
    "print(estadisticas)\n",
    "\n",
    "minimo = np.min(estadisticas)\n",
    "print(minimo)\n",
    "\n",
    "# Tambien podremos obtener el máximo de una matríz - Función np.max(matríz)\n",
    "maximo = np.max(estadisticas)\n",
    "print(maximo)\n",
    "\n",
    "# Esos serían los mínimos y máximos de toda la matríz pero que pasa si queremos obtenerlos por filas o columnas?\n",
    "# Debemos agregar el parametro axis en la función np.max(), por ejemplo\n",
    "print(np.min(estadisticas,axis = 0)) # Por columna obtenemos que los menores son 1 2 y 3\n",
    "print(np.min(estadisticas,axis = 1)) # Por fila obtenemos que los menores son 1 4 y 7\n",
    "\n",
    "print(np.max(estadisticas,axis = 0)) # Por columna obtenemos que los más grandes son 7 8 y 9\n",
    "print(np.max(estadisticas,axis = 1)) # Por fila obtenemos que los más grandes son 3 6 y 9"
   ]
  },
  {
   "cell_type": "markdown",
   "metadata": {},
   "source": [
    "### Reorganizar Matrices"
   ]
  },
  {
   "cell_type": "code",
   "execution_count": 197,
   "metadata": {},
   "outputs": [
    {
     "name": "stdout",
     "output_type": "stream",
     "text": [
      "[[1 2]\n",
      " [3 4]\n",
      " [5 6]\n",
      " [7 8]]\n",
      "[[1 2 3 4]\n",
      " [5 6 7 8]]\n",
      "[[[1 2]\n",
      "  [3 4]]\n",
      "\n",
      " [[5 6]\n",
      "  [7 8]]]\n"
     ]
    }
   ],
   "source": [
    "# Para cambiarle la forma a una matríz - Función np.reshape(matríz,(cantfilas,cantcol)) o nombmatriz.reshape(forma)\n",
    "antes = np.array ([[1,2],[3,4],[5,6],[7,8]])\n",
    "despues = np.reshape(antes,(2,4)) # Generamos una matríz 2x4 con la Forma 1 \n",
    "despues2 = antes.reshape(2,2,2) # Generamos una matríz 3d con la Forma 2\n",
    "\n",
    "# Recordemos que debemos de obtener con el reshape la misma cantidad de elementos que la forma original\n",
    "# De lo contrario obtendremos un error que indica que son menos o más elementos de lo que posee la matríz original\n",
    "\n",
    "print(antes)\n",
    "print(despues)\n",
    "print(despues2)"
   ]
  },
  {
   "cell_type": "code",
   "execution_count": 200,
   "metadata": {},
   "outputs": [
    {
     "name": "stdout",
     "output_type": "stream",
     "text": [
      "[[1 2 3]\n",
      " [4 5 6]]\n",
      "[[4 5 6]\n",
      " [1 2 3]]\n",
      "[[1 2 3]\n",
      " [4 5 6]\n",
      " [4 5 6]\n",
      " [1 2 3]]\n"
     ]
    }
   ],
   "source": [
    "# Para apilar vectores de forma vertical - Función np.vstack([v1,v2,v3,...]) * Orden de arriba hacia abajo\n",
    "vect1 = np.array([1,2,3])\n",
    "vect2 = np.array([4,5,6])\n",
    "\n",
    "print(np.vstack([vect1,vect2])) # Quedará arriba 1,2,3 y debajo 4,5,6\n",
    "print(np.vstack([vect2,vect1])) # Quedará arriba 4,5,6 y debajo 1,2,3\n",
    "\n",
    "# Recordemos que los vectores que stackeemos deben de tener el mismo largo\n",
    "# Podemos stackear cuantos vectores queramos, por ejemplo\n",
    "\n",
    "print(np.vstack([vect1,vect2,vect2,vect1]))"
   ]
  },
  {
   "cell_type": "code",
   "execution_count": 205,
   "metadata": {},
   "outputs": [
    {
     "name": "stdout",
     "output_type": "stream",
     "text": [
      "[1 2 3 4 5 6 7 8 9]\n",
      "[7 8 9 4 5 6 4 5 6 1 2 3]\n"
     ]
    }
   ],
   "source": [
    "# Para stackear vectores de forma horizontal - Función np.hstack([v1,v2,v3,....]) * Orden de izquierda a derecha\n",
    "vect1 = np.array([1,2,3])\n",
    "vect2 = np.array([4,5,6])\n",
    "vect3 = np.array([7,8,9])\n",
    "\n",
    "# En este caso no necesitamos que los vectores a stackear horizontalmente sean del mismo tamaño\n",
    "\n",
    "print(np.hstack([vect1,vect2,vect3]))\n",
    "print(np.hstack([vect3,vect2,vect2,vect1]))"
   ]
  },
  {
   "cell_type": "markdown",
   "metadata": {},
   "source": [
    "## Otras cosas interesantes Numpy"
   ]
  },
  {
   "cell_type": "markdown",
   "metadata": {},
   "source": [
    "### Leer datos de un archivo"
   ]
  },
  {
   "cell_type": "code",
   "execution_count": 215,
   "metadata": {},
   "outputs": [
    {
     "name": "stdout",
     "output_type": "stream",
     "text": [
      "[[70 84 93 88  7 35 32 71 27 25]\n",
      " [54 11 26 12 55 23 19 42 58 48]\n",
      " [18 29 45 10 93 49 17 24 59 75]]\n"
     ]
    }
   ],
   "source": [
    "# En caso de no utilizar pandas para leer archivos, podemos trabajar tambien con numpy\n",
    "# Para ello necesitaremos obviamente un archivo de texto de donde leer datos\n",
    "# En nuestro caso estará en el repositorio y se llama data.txt\n",
    "# En este caso generaremos de un txt y la función a utilizar es np.genfromtxt(nombredelarchivo,delimitador,dtype)\n",
    "data = np.genfromtxt('data.txt',delimiter=',',dtype = 'int16')\n",
    "# Recordemos que para crear una matríz los vectores deben de tener la misma longitud\n",
    "# En el caso contrario, si queremos importar desde un txt en que un vector tenga más elementos que otro\n",
    "# Obtendremos un error que nos indicara eso\n",
    "print(data)"
   ]
  },
  {
   "cell_type": "markdown",
   "metadata": {},
   "source": [
    "### Enmascaramiento booleano e indexación avanzada "
   ]
  },
  {
   "cell_type": "code",
   "execution_count": 216,
   "metadata": {},
   "outputs": [
    {
     "data": {
      "text/plain": [
       "array([[ True,  True,  True,  True, False, False, False,  True, False,\n",
       "        False],\n",
       "       [ True, False, False, False,  True, False, False, False,  True,\n",
       "        False],\n",
       "       [False, False, False, False,  True, False, False, False,  True,\n",
       "         True]])"
      ]
     },
     "execution_count": 216,
     "metadata": {},
     "output_type": "execute_result"
    }
   ],
   "source": [
    "# Podemos obtener cierta información de manera booleana con ayuda de Numpy\n",
    "# Por ejemplo si quisieramos saber cual dato en la matríz es mayor a 50 hariamos\n",
    "data > 50"
   ]
  },
  {
   "cell_type": "code",
   "execution_count": 220,
   "metadata": {},
   "outputs": [
    {
     "data": {
      "text/plain": [
       "array([70, 84, 93, 88, 71, 54, 55, 58, 93, 59, 75], dtype=int16)"
      ]
     },
     "execution_count": 220,
     "metadata": {},
     "output_type": "execute_result"
    }
   ],
   "source": [
    "# Tambien podriamos obtener de forma directa los elementos que cumplen una condición\n",
    "# Para ello pondremos el nombre de la matríz y en el indice pondremos la condición, de la siguiente forma\n",
    "mayores_a_50 = data[data>50]\n",
    "mayores_a_50"
   ]
  },
  {
   "cell_type": "code",
   "execution_count": 221,
   "metadata": {},
   "outputs": [
    {
     "data": {
      "text/plain": [
       "array([70, 75], dtype=int16)"
      ]
     },
     "execution_count": 221,
     "metadata": {},
     "output_type": "execute_result"
    }
   ],
   "source": [
    "# En numpy se permite indexar con listas, de manera tal que podemos obtener ciertos elementos de esta forma\n",
    "# Supongamos que queremos obtener el primero y el último de los mayores a 50\n",
    "mayores_a_50[[0,-1]] # Nos devolvera el elemento de indice 0(primero) y el elemento de indice -1 (último)"
   ]
  },
  {
   "cell_type": "code",
   "execution_count": 222,
   "metadata": {},
   "outputs": [
    {
     "data": {
      "text/plain": [
       "array([ True,  True,  True,  True,  True, False, False,  True,  True,\n",
       "        True])"
      ]
     },
     "execution_count": 222,
     "metadata": {},
     "output_type": "execute_result"
    }
   ],
   "source": [
    "# Tambien podriamos comprobar si existen mayores a 50 entre las filas, lo haríamos de esta forma\n",
    "np.any(data > 50,axis = 0) # Esto comprueba si alguno en la columna tiene un valor mayor que 50"
   ]
  },
  {
   "cell_type": "code",
   "execution_count": 228,
   "metadata": {},
   "outputs": [
    {
     "data": {
      "text/plain": [
       "array([False, False,  True, False, False, False, False, False,  True,\n",
       "       False])"
      ]
     },
     "execution_count": 228,
     "metadata": {},
     "output_type": "execute_result"
    }
   ],
   "source": [
    "# Tambíen podriamos comprobar si todos los elementos de la columna \n",
    "# cumplen con esa condición, para ello cambiamos any por all\n",
    "np.all(data > 25, axis = 0) \n",
    "# Cambiamos la condición para 25 para que haya algunos true, puedes comprobarlo tú mismo. Experimenta.\n",
    "# Podrías realizar las mismas pruebas para las filas, solo tendrías que cambiar axis = 0 por axis = 1."
   ]
  },
  {
   "cell_type": "code",
   "execution_count": 244,
   "metadata": {},
   "outputs": [
    {
     "data": {
      "text/plain": [
       "array([[False, False, False, False,  True, False, False, False, False,\n",
       "        False],\n",
       "       [ True,  True, False,  True,  True, False,  True, False,  True,\n",
       "        False],\n",
       "       [ True, False, False,  True, False, False,  True, False,  True,\n",
       "        False]])"
      ]
     },
     "execution_count": 244,
     "metadata": {},
     "output_type": "execute_result"
    }
   ],
   "source": [
    "# Otra cosa que podrías cambiar para probar son las condiciones, podrias armar condiciones complejas\n",
    "# Por ejemplo crearemos una función que obtenga los mayores a 50 y menores de 70 más los menores de 20\n",
    "(((50 < data) & (data < 70)) + (data < 20))"
   ]
  },
  {
   "cell_type": "code",
   "execution_count": 246,
   "metadata": {},
   "outputs": [
    {
     "data": {
      "text/plain": [
       "array([[ True,  True,  True,  True,  True,  True,  True,  True,  True,\n",
       "         True],\n",
       "       [False,  True,  True,  True, False,  True,  True,  True, False,\n",
       "         True],\n",
       "       [ True,  True,  True,  True,  True,  True,  True,  True, False,\n",
       "         True]])"
      ]
     },
     "execution_count": 246,
     "metadata": {},
     "output_type": "execute_result"
    }
   ],
   "source": [
    "# Si quisieramos obtener como true todos los que no cumplan una condición, deberiamos de cambiar la condición\n",
    "# Pero una forma más sencilla es negar esa condición, de forma que invertiriamos los resultados, tal que así\n",
    "(~((50 < data) & (data < 70)) + (data < 20)) \n",
    "# Tan solo agregamos el simbolo \"~\" delante de la proposición a negar"
   ]
  },
  {
   "cell_type": "markdown",
   "metadata": {},
   "source": [
    "### Ejercicio Número 2 : Utilice indexación para llegar al resultado"
   ]
  },
  {
   "cell_type": "code",
   "execution_count": 248,
   "metadata": {},
   "outputs": [
    {
     "name": "stdout",
     "output_type": "stream",
     "text": [
      "[[ 1  2  3  4  5]\n",
      " [ 6  7  8  9 10]\n",
      " [11 12 13 14 15]\n",
      " [16 17 18 19 20]\n",
      " [21 22 23 24 25]\n",
      " [26 27 28 29 30]]\n"
     ]
    }
   ],
   "source": [
    "# Supongamos que tenemos una matríz del 1 al 30 de 6 filas y 5 columnas, de la siguiente forma\n",
    "matriz = np.arange(1,31)\n",
    "matriz = matriz.reshape(6,5)\n",
    "print(matriz)\n",
    "# Entonces queremos obtener con indexación, la matríz [[11,12],[16,17]]\n",
    "# ¿Cómo lo harías? Trata de resolverlo tu solo y luego mira la resolución"
   ]
  },
  {
   "cell_type": "code",
   "execution_count": 254,
   "metadata": {},
   "outputs": [
    {
     "name": "stdout",
     "output_type": "stream",
     "text": [
      "[11 12]\n",
      "[16 17] \n",
      "\n",
      "[[11 12]\n",
      " [16 17]]\n"
     ]
    }
   ],
   "source": [
    "vect1 = matriz[((matriz > 10) & (matriz < 13))] # Obtenemos los que cumplan con la condición >10 y <13\n",
    "vect2 = matriz[((matriz > 15) & (matriz < 18))] # Obtenemos los que cumplan con la condición >15 y <18\n",
    "print(vect1)\n",
    "print(vect2,\"\\n\")\n",
    "respuesta = np.vstack([vect1,vect2]) # Armamos la matríz a partir de los vectores obtenidos\n",
    "print(respuesta)"
   ]
  },
  {
   "cell_type": "markdown",
   "metadata": {},
   "source": [
    "###### Esto ha sido todo, para más información te dejaré los links a la página oficial de Numpy en el repo oficial\n",
    "##### Espero te haya gustado, si es así hazmelo saber por mis redes, las cuales tendrás disponibles tambien en el repo, saludos !"
   ]
  }
 ],
 "metadata": {
  "kernelspec": {
   "display_name": "Python 3",
   "language": "python",
   "name": "python3"
  },
  "language_info": {
   "codemirror_mode": {
    "name": "ipython",
    "version": 3
   },
   "file_extension": ".py",
   "mimetype": "text/x-python",
   "name": "python",
   "nbconvert_exporter": "python",
   "pygments_lexer": "ipython3",
   "version": "3.8.3"
  }
 },
 "nbformat": 4,
 "nbformat_minor": 4
}
